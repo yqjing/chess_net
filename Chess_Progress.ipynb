{
 "cells": [
  {
   "cell_type": "code",
   "execution_count": 26,
   "metadata": {},
   "outputs": [],
   "source": [
    "import requests\n",
    "import pandas as pd\n",
    "import numpy as np\n",
    "import matplotlib.pyplot as plt\n",
    "import json\n",
    "import regex as re"
   ]
  },
  {
   "cell_type": "code",
   "execution_count": 27,
   "metadata": {},
   "outputs": [],
   "source": [
    "import datetime\n",
    "\n",
    "def getDate(s,datetype = \"UTC\"):\n",
    "    start_index1 = s.find(datetype + \"Date\")\n",
    "    end_index1 = start_index1 + 9\n",
    "\n",
    "    start_index2 = s.find(datetype + \"Time\")\n",
    "    end_index2 = start_index2 + 9\n",
    "\n",
    "    \n",
    "\n",
    "    date_string = '{} {}'.format(s[end_index1:end_index1 + 10],s[end_index2:end_index2 + 8])\n",
    "    date_format = '%Y.%m.%d %H:%M:%S'\n",
    "\n",
    "    #print(date_string)\n",
    "\n",
    "    return datetime.datetime.strptime(date_string,date_format)\n",
    "\n",
    "def getNumMoves(pgn_only):\n",
    "    move_nums = re.findall(r' [0-9]+\\.+ ',pgn_only)\n",
    "    if len(move_nums)==0:\n",
    "        return 1\n",
    "    largestMoveStr = move_nums[-1][1:move_nums[-1].index('.')]\n",
    "    return int(largestMoveStr)\n",
    "    \n",
    "\n",
    "def getPGNInfo(pgn):\n",
    "    pgn_only = pgn.split('\\n')[-2]\n",
    "    return {\n",
    "        'start_time': getDate(pgn,'UTC'),\n",
    "        'end_time':getDate(pgn,'End'),\n",
    "        'num_moves':getNumMoves(pgn_only)\n",
    "    }\n",
    "\n",
    "    \n",
    "\n",
    "\n",
    "def getPlayersAndResult(whiteJSON,blackJSON,player=\"rohitg1234\"):\n",
    "    white_username = whiteJSON['username']\n",
    "    white_rating = whiteJSON['rating']\n",
    "\n",
    "    black_username = blackJSON['username']\n",
    "    black_rating = blackJSON['rating']\n",
    "\n",
    "    player_colour = 'white' if white_username == player else 'black'\n",
    "    opponent_colour = 'white' if white_username != player else 'black'\n",
    "    player_rating = white_rating if player_colour=='white' else black_rating\n",
    "    opponent_rating = white_rating if player_colour!='white' else black_rating\n",
    "    rating_difference = player_rating - opponent_rating\n",
    "\n",
    "\n",
    "    white_result = whiteJSON['result']\n",
    "    black_result = blackJSON['result']\n",
    "    if white_result == 'win':\n",
    "        winner = 'white'\n",
    "    elif black_result == 'win':\n",
    "        winner = 'black'\n",
    "    else:\n",
    "        winner = 'draw'\n",
    "\n",
    "    player_result = 'draw' if winner == 'draw' else ('win' if player_colour == winner else 'loss')\n",
    "    player_result_value = 0.5 if winner == 'draw' else (1 if player_colour == winner else 0)\n",
    "    result_method = white_result if winner=='black' else black_result\n",
    "\n",
    "    return {\n",
    "        'white_username':white_username,\n",
    "        'white_rating':white_rating,\n",
    "        'white_result':white_result,\n",
    "        'black_rating':black_rating,\n",
    "        'black_username':black_username,\n",
    "        'black_result':black_result,\n",
    "        'player_colour':player_colour,\n",
    "        'player_rating':player_rating,\n",
    "        'opponent_colour':opponent_colour,\n",
    "        'opponent_rating':opponent_rating,\n",
    "        'rating_difference':rating_difference,\n",
    "        'player_result':player_result,\n",
    "        'player_result_value':player_result_value,\n",
    "        'result_method':result_method\n",
    "    }"
   ]
  },
  {
   "cell_type": "code",
   "execution_count": 28,
   "metadata": {},
   "outputs": [],
   "source": [
    "url_template = r\"https://api.chess.com/pub/player/rohitg1234/games/{}/{}\"\n",
    "headers = {'User-Agent': 'Mozilla/5.0 (Windows NT 10.0; Win64; x64) AppleWebKit/537.36 (KHTML, like Gecko) Chrome/121.0.0.0 Safari/537.36'}\n",
    "    "
   ]
  },
  {
   "cell_type": "code",
   "execution_count": 10,
   "metadata": {},
   "outputs": [],
   "source": [
    "username = 'rohitg1234'\n",
    "run_code = True\n",
    "\n",
    "if run_code:\n",
    "    start_year = 2018\n",
    "    start_month = 9\n",
    "\n",
    "    end_year = 2024\n",
    "    end_month = 2\n",
    "\n",
    "    #url = \"https://api.chess.com/pub/player/{}/games/{}/{}\"\n",
    "\n",
    "\n",
    "    get_year = start_year\n",
    "    get_month = start_month\n",
    "\n",
    "    data_json_list = []\n",
    "\n",
    "    while(get_year*100+get_month <= end_year*100 + end_month):\n",
    "        url = \"https://api.chess.com/pub/player/{}/games/{}/{}\".format(username,str(get_year),(2-len(str(get_month)))*'0' + str(get_month))\n",
    "        #print(url)\n",
    "        data = requests.get(url,headers=headers)\n",
    "        data_json_list += data.json()['games']\n",
    "\n",
    "        get_month += 1\n",
    "        if get_month == 13:\n",
    "            get_year += 1\n",
    "            get_month = 1\n",
    "\n",
    "\n",
    "\n",
    "    with open(\"{} chess history.json\".format(username), \"w\") as f:\n",
    "        f.write(json.dumps(data_json_list))\n",
    "        f.close()"
   ]
  },
  {
   "cell_type": "code",
   "execution_count": 29,
   "metadata": {},
   "outputs": [],
   "source": [
    "# if not run_code:\n",
    "#     with open(\"{} chess history.json\".format(username)) as f:\n",
    "#         data_json_list = json.load(f)\n",
    "#         f.close()\n"
   ]
  },
  {
   "cell_type": "code",
   "execution_count": 30,
   "metadata": {},
   "outputs": [
    {
     "name": "stdout",
     "output_type": "stream",
     "text": [
      "Games completed: 9462/9462 (100.0%)\r"
     ]
    }
   ],
   "source": [
    "total_games = len(data_json_list)\n",
    "games_completed = 0\n",
    "cleaned_json_list = []\n",
    "for datapoint in data_json_list:\n",
    "    cleaned_datapoint = {}\n",
    "    cleaned_datapoint[\"URL\"] = datapoint[\"url\"]\n",
    "    cleaned_datapoint[\"game_id\"] = datapoint[\"url\"].split(\"/\")[-1]\n",
    "    cleaned_datapoint[\"is_rated\"] = datapoint[\"rated\"]\n",
    "    cleaned_datapoint[\"time_control\"] = datapoint[\"time_control\"]\n",
    "    cleaned_datapoint[\"time_class\"] = datapoint[\"time_class\"]\n",
    "    pgn_str = datapoint[\"pgn\"]\n",
    "    cleaned_datapoint = cleaned_datapoint | getPGNInfo(pgn_str)\n",
    "    cleaned_datapoint[\"duration\"] = cleaned_datapoint[\"end_time\"] - cleaned_datapoint[\"start_time\"]\n",
    "    cleaned_datapoint = cleaned_datapoint | getPlayersAndResult(datapoint['white'],datapoint['black'])\n",
    "    cleaned_json_list.append(cleaned_datapoint)\n",
    "\n",
    "    games_completed +=1\n",
    "    print('Games completed: {}/{} ({:.1f}%)'.format(games_completed,total_games,100*games_completed/total_games),end='\\r')"
   ]
  },
  {
   "cell_type": "code",
   "execution_count": 31,
   "metadata": {},
   "outputs": [],
   "source": [
    "df = pd.DataFrame(cleaned_json_list)"
   ]
  },
  {
   "cell_type": "code",
   "execution_count": 32,
   "metadata": {},
   "outputs": [
    {
     "data": {
      "text/html": [
       "<div>\n",
       "<style scoped>\n",
       "    .dataframe tbody tr th:only-of-type {\n",
       "        vertical-align: middle;\n",
       "    }\n",
       "\n",
       "    .dataframe tbody tr th {\n",
       "        vertical-align: top;\n",
       "    }\n",
       "\n",
       "    .dataframe thead th {\n",
       "        text-align: right;\n",
       "    }\n",
       "</style>\n",
       "<table border=\"1\" class=\"dataframe\">\n",
       "  <thead>\n",
       "    <tr style=\"text-align: right;\">\n",
       "      <th></th>\n",
       "      <th>URL</th>\n",
       "      <th>game_id</th>\n",
       "      <th>is_rated</th>\n",
       "      <th>time_control</th>\n",
       "      <th>time_class</th>\n",
       "      <th>start_time</th>\n",
       "      <th>end_time</th>\n",
       "      <th>num_moves</th>\n",
       "      <th>duration</th>\n",
       "      <th>white_username</th>\n",
       "      <th>...</th>\n",
       "      <th>black_username</th>\n",
       "      <th>black_result</th>\n",
       "      <th>player_colour</th>\n",
       "      <th>player_rating</th>\n",
       "      <th>opponent_colour</th>\n",
       "      <th>opponent_rating</th>\n",
       "      <th>rating_difference</th>\n",
       "      <th>player_result</th>\n",
       "      <th>player_result_value</th>\n",
       "      <th>result_method</th>\n",
       "    </tr>\n",
       "  </thead>\n",
       "  <tbody>\n",
       "    <tr>\n",
       "      <th>0</th>\n",
       "      <td>https://www.chess.com/game/live/3059512721</td>\n",
       "      <td>3059512721</td>\n",
       "      <td>True</td>\n",
       "      <td>600</td>\n",
       "      <td>blitz</td>\n",
       "      <td>2018-09-07 17:33:14</td>\n",
       "      <td>2018-09-07 17:35:17</td>\n",
       "      <td>3</td>\n",
       "      <td>0 days 00:02:03</td>\n",
       "      <td>rohitg1234</td>\n",
       "      <td>...</td>\n",
       "      <td>Abbido</td>\n",
       "      <td>abandoned</td>\n",
       "      <td>white</td>\n",
       "      <td>1107</td>\n",
       "      <td>black</td>\n",
       "      <td>693</td>\n",
       "      <td>414</td>\n",
       "      <td>win</td>\n",
       "      <td>1.0</td>\n",
       "      <td>abandoned</td>\n",
       "    </tr>\n",
       "    <tr>\n",
       "      <th>1</th>\n",
       "      <td>https://www.chess.com/game/live/3059517172</td>\n",
       "      <td>3059517172</td>\n",
       "      <td>True</td>\n",
       "      <td>600</td>\n",
       "      <td>blitz</td>\n",
       "      <td>2018-09-07 17:35:17</td>\n",
       "      <td>2018-09-07 17:51:09</td>\n",
       "      <td>43</td>\n",
       "      <td>0 days 00:15:52</td>\n",
       "      <td>WVMLL</td>\n",
       "      <td>...</td>\n",
       "      <td>rohitg1234</td>\n",
       "      <td>timeout</td>\n",
       "      <td>black</td>\n",
       "      <td>966</td>\n",
       "      <td>white</td>\n",
       "      <td>1186</td>\n",
       "      <td>-220</td>\n",
       "      <td>loss</td>\n",
       "      <td>0.0</td>\n",
       "      <td>timeout</td>\n",
       "    </tr>\n",
       "    <tr>\n",
       "      <th>2</th>\n",
       "      <td>https://www.chess.com/game/live/3059548861</td>\n",
       "      <td>3059548861</td>\n",
       "      <td>True</td>\n",
       "      <td>600</td>\n",
       "      <td>blitz</td>\n",
       "      <td>2018-09-07 17:51:10</td>\n",
       "      <td>2018-09-07 18:08:29</td>\n",
       "      <td>41</td>\n",
       "      <td>0 days 00:17:19</td>\n",
       "      <td>nathgomez</td>\n",
       "      <td>...</td>\n",
       "      <td>rohitg1234</td>\n",
       "      <td>timeout</td>\n",
       "      <td>black</td>\n",
       "      <td>857</td>\n",
       "      <td>white</td>\n",
       "      <td>1093</td>\n",
       "      <td>-236</td>\n",
       "      <td>loss</td>\n",
       "      <td>0.0</td>\n",
       "      <td>timeout</td>\n",
       "    </tr>\n",
       "    <tr>\n",
       "      <th>3</th>\n",
       "      <td>https://www.chess.com/game/live/3059583990</td>\n",
       "      <td>3059583990</td>\n",
       "      <td>True</td>\n",
       "      <td>900+10</td>\n",
       "      <td>rapid</td>\n",
       "      <td>2018-09-07 18:08:51</td>\n",
       "      <td>2018-09-07 18:20:24</td>\n",
       "      <td>22</td>\n",
       "      <td>0 days 00:11:33</td>\n",
       "      <td>rohitg1234</td>\n",
       "      <td>...</td>\n",
       "      <td>ArnoldVardanyan</td>\n",
       "      <td>abandoned</td>\n",
       "      <td>white</td>\n",
       "      <td>1171</td>\n",
       "      <td>black</td>\n",
       "      <td>1018</td>\n",
       "      <td>153</td>\n",
       "      <td>win</td>\n",
       "      <td>1.0</td>\n",
       "      <td>abandoned</td>\n",
       "    </tr>\n",
       "    <tr>\n",
       "      <th>4</th>\n",
       "      <td>https://www.chess.com/game/live/3059607049</td>\n",
       "      <td>3059607049</td>\n",
       "      <td>True</td>\n",
       "      <td>900+10</td>\n",
       "      <td>rapid</td>\n",
       "      <td>2018-09-07 18:20:51</td>\n",
       "      <td>2018-09-07 18:39:08</td>\n",
       "      <td>37</td>\n",
       "      <td>0 days 00:18:17</td>\n",
       "      <td>jesus_88</td>\n",
       "      <td>...</td>\n",
       "      <td>rohitg1234</td>\n",
       "      <td>resigned</td>\n",
       "      <td>black</td>\n",
       "      <td>1025</td>\n",
       "      <td>white</td>\n",
       "      <td>1122</td>\n",
       "      <td>-97</td>\n",
       "      <td>loss</td>\n",
       "      <td>0.0</td>\n",
       "      <td>resigned</td>\n",
       "    </tr>\n",
       "  </tbody>\n",
       "</table>\n",
       "<p>5 rows × 23 columns</p>\n",
       "</div>"
      ],
      "text/plain": [
       "                                          URL     game_id  is_rated  \\\n",
       "0  https://www.chess.com/game/live/3059512721  3059512721      True   \n",
       "1  https://www.chess.com/game/live/3059517172  3059517172      True   \n",
       "2  https://www.chess.com/game/live/3059548861  3059548861      True   \n",
       "3  https://www.chess.com/game/live/3059583990  3059583990      True   \n",
       "4  https://www.chess.com/game/live/3059607049  3059607049      True   \n",
       "\n",
       "  time_control time_class          start_time            end_time  num_moves  \\\n",
       "0          600      blitz 2018-09-07 17:33:14 2018-09-07 17:35:17          3   \n",
       "1          600      blitz 2018-09-07 17:35:17 2018-09-07 17:51:09         43   \n",
       "2          600      blitz 2018-09-07 17:51:10 2018-09-07 18:08:29         41   \n",
       "3       900+10      rapid 2018-09-07 18:08:51 2018-09-07 18:20:24         22   \n",
       "4       900+10      rapid 2018-09-07 18:20:51 2018-09-07 18:39:08         37   \n",
       "\n",
       "         duration white_username  ...   black_username black_result  \\\n",
       "0 0 days 00:02:03     rohitg1234  ...           Abbido    abandoned   \n",
       "1 0 days 00:15:52          WVMLL  ...       rohitg1234      timeout   \n",
       "2 0 days 00:17:19      nathgomez  ...       rohitg1234      timeout   \n",
       "3 0 days 00:11:33     rohitg1234  ...  ArnoldVardanyan    abandoned   \n",
       "4 0 days 00:18:17       jesus_88  ...       rohitg1234     resigned   \n",
       "\n",
       "   player_colour player_rating opponent_colour opponent_rating  \\\n",
       "0          white          1107           black             693   \n",
       "1          black           966           white            1186   \n",
       "2          black           857           white            1093   \n",
       "3          white          1171           black            1018   \n",
       "4          black          1025           white            1122   \n",
       "\n",
       "   rating_difference player_result  player_result_value  result_method  \n",
       "0                414           win                  1.0      abandoned  \n",
       "1               -220          loss                  0.0        timeout  \n",
       "2               -236          loss                  0.0        timeout  \n",
       "3                153           win                  1.0      abandoned  \n",
       "4                -97          loss                  0.0       resigned  \n",
       "\n",
       "[5 rows x 23 columns]"
      ]
     },
     "execution_count": 32,
     "metadata": {},
     "output_type": "execute_result"
    }
   ],
   "source": [
    "df.head()"
   ]
  },
  {
   "cell_type": "code",
   "execution_count": 33,
   "metadata": {},
   "outputs": [],
   "source": [
    "df_blitz = df[(df[\"time_class\"] == 'blitz')&(df['is_rated'] == True)]\n",
    "df_bullet = df[df[\"time_class\"] == 'bullet']\n",
    "df_rapid = df[df[\"time_class\"] == 'rapid']"
   ]
  },
  {
   "cell_type": "code",
   "execution_count": 34,
   "metadata": {},
   "outputs": [
    {
     "data": {
      "text/html": [
       "<div>\n",
       "<style scoped>\n",
       "    .dataframe tbody tr th:only-of-type {\n",
       "        vertical-align: middle;\n",
       "    }\n",
       "\n",
       "    .dataframe tbody tr th {\n",
       "        vertical-align: top;\n",
       "    }\n",
       "\n",
       "    .dataframe thead th {\n",
       "        text-align: right;\n",
       "    }\n",
       "</style>\n",
       "<table border=\"1\" class=\"dataframe\">\n",
       "  <thead>\n",
       "    <tr style=\"text-align: right;\">\n",
       "      <th></th>\n",
       "      <th></th>\n",
       "      <th>white_result</th>\n",
       "      <th>num_moves</th>\n",
       "      <th>rating_difference</th>\n",
       "    </tr>\n",
       "    <tr>\n",
       "      <th>player_result</th>\n",
       "      <th>result_method</th>\n",
       "      <th></th>\n",
       "      <th></th>\n",
       "      <th></th>\n",
       "    </tr>\n",
       "  </thead>\n",
       "  <tbody>\n",
       "    <tr>\n",
       "      <th rowspan=\"5\" valign=\"top\">draw</th>\n",
       "      <th>agreed</th>\n",
       "      <td>25</td>\n",
       "      <td>44.360000</td>\n",
       "      <td>13.240000</td>\n",
       "    </tr>\n",
       "    <tr>\n",
       "      <th>insufficient</th>\n",
       "      <td>43</td>\n",
       "      <td>61.418605</td>\n",
       "      <td>-5.558140</td>\n",
       "    </tr>\n",
       "    <tr>\n",
       "      <th>repetition</th>\n",
       "      <td>135</td>\n",
       "      <td>42.459259</td>\n",
       "      <td>12.251852</td>\n",
       "    </tr>\n",
       "    <tr>\n",
       "      <th>stalemate</th>\n",
       "      <td>36</td>\n",
       "      <td>62.916667</td>\n",
       "      <td>15.194444</td>\n",
       "    </tr>\n",
       "    <tr>\n",
       "      <th>timevsinsufficient</th>\n",
       "      <td>60</td>\n",
       "      <td>70.716667</td>\n",
       "      <td>1.883333</td>\n",
       "    </tr>\n",
       "    <tr>\n",
       "      <th rowspan=\"4\" valign=\"top\">loss</th>\n",
       "      <th>abandoned</th>\n",
       "      <td>2</td>\n",
       "      <td>20.500000</td>\n",
       "      <td>-55.500000</td>\n",
       "    </tr>\n",
       "    <tr>\n",
       "      <th>checkmated</th>\n",
       "      <td>316</td>\n",
       "      <td>34.544304</td>\n",
       "      <td>-17.430380</td>\n",
       "    </tr>\n",
       "    <tr>\n",
       "      <th>resigned</th>\n",
       "      <td>1134</td>\n",
       "      <td>29.440917</td>\n",
       "      <td>-15.071429</td>\n",
       "    </tr>\n",
       "    <tr>\n",
       "      <th>timeout</th>\n",
       "      <td>605</td>\n",
       "      <td>46.224793</td>\n",
       "      <td>-14.122314</td>\n",
       "    </tr>\n",
       "    <tr>\n",
       "      <th rowspan=\"4\" valign=\"top\">win</th>\n",
       "      <th>abandoned</th>\n",
       "      <td>61</td>\n",
       "      <td>21.098361</td>\n",
       "      <td>50.819672</td>\n",
       "    </tr>\n",
       "    <tr>\n",
       "      <th>checkmated</th>\n",
       "      <td>729</td>\n",
       "      <td>36.251029</td>\n",
       "      <td>62.950617</td>\n",
       "    </tr>\n",
       "    <tr>\n",
       "      <th>resigned</th>\n",
       "      <td>1091</td>\n",
       "      <td>28.860678</td>\n",
       "      <td>39.737855</td>\n",
       "    </tr>\n",
       "    <tr>\n",
       "      <th>timeout</th>\n",
       "      <td>463</td>\n",
       "      <td>44.602592</td>\n",
       "      <td>48.006479</td>\n",
       "    </tr>\n",
       "  </tbody>\n",
       "</table>\n",
       "</div>"
      ],
      "text/plain": [
       "                                  white_result  num_moves  rating_difference\n",
       "player_result result_method                                                 \n",
       "draw          agreed                        25  44.360000          13.240000\n",
       "              insufficient                  43  61.418605          -5.558140\n",
       "              repetition                   135  42.459259          12.251852\n",
       "              stalemate                     36  62.916667          15.194444\n",
       "              timevsinsufficient            60  70.716667           1.883333\n",
       "loss          abandoned                      2  20.500000         -55.500000\n",
       "              checkmated                   316  34.544304         -17.430380\n",
       "              resigned                    1134  29.440917         -15.071429\n",
       "              timeout                      605  46.224793         -14.122314\n",
       "win           abandoned                     61  21.098361          50.819672\n",
       "              checkmated                   729  36.251029          62.950617\n",
       "              resigned                    1091  28.860678          39.737855\n",
       "              timeout                      463  44.602592          48.006479"
      ]
     },
     "execution_count": 34,
     "metadata": {},
     "output_type": "execute_result"
    }
   ],
   "source": [
    "df_blitz.groupby(['player_result','result_method']).agg({'white_result':'count','num_moves':'mean','rating_difference':'mean'})"
   ]
  },
  {
   "cell_type": "code",
   "execution_count": 35,
   "metadata": {},
   "outputs": [
    {
     "data": {
      "text/html": [
       "<div>\n",
       "<style scoped>\n",
       "    .dataframe tbody tr th:only-of-type {\n",
       "        vertical-align: middle;\n",
       "    }\n",
       "\n",
       "    .dataframe tbody tr th {\n",
       "        vertical-align: top;\n",
       "    }\n",
       "\n",
       "    .dataframe thead th {\n",
       "        text-align: right;\n",
       "    }\n",
       "</style>\n",
       "<table border=\"1\" class=\"dataframe\">\n",
       "  <thead>\n",
       "    <tr style=\"text-align: right;\">\n",
       "      <th></th>\n",
       "      <th></th>\n",
       "      <th>white_result</th>\n",
       "      <th>num_moves</th>\n",
       "      <th>rating_difference</th>\n",
       "    </tr>\n",
       "    <tr>\n",
       "      <th>player_colour</th>\n",
       "      <th>player_result</th>\n",
       "      <th></th>\n",
       "      <th></th>\n",
       "      <th></th>\n",
       "    </tr>\n",
       "  </thead>\n",
       "  <tbody>\n",
       "    <tr>\n",
       "      <th rowspan=\"3\" valign=\"top\">black</th>\n",
       "      <th>draw</th>\n",
       "      <td>160</td>\n",
       "      <td>53.212500</td>\n",
       "      <td>6.718750</td>\n",
       "    </tr>\n",
       "    <tr>\n",
       "      <th>loss</th>\n",
       "      <td>1059</td>\n",
       "      <td>35.423041</td>\n",
       "      <td>-15.586402</td>\n",
       "    </tr>\n",
       "    <tr>\n",
       "      <th>win</th>\n",
       "      <td>1136</td>\n",
       "      <td>34.849472</td>\n",
       "      <td>46.610915</td>\n",
       "    </tr>\n",
       "    <tr>\n",
       "      <th rowspan=\"3\" valign=\"top\">white</th>\n",
       "      <th>draw</th>\n",
       "      <td>139</td>\n",
       "      <td>53.784173</td>\n",
       "      <td>9.575540</td>\n",
       "    </tr>\n",
       "    <tr>\n",
       "      <th>loss</th>\n",
       "      <td>998</td>\n",
       "      <td>34.865731</td>\n",
       "      <td>-14.777555</td>\n",
       "    </tr>\n",
       "    <tr>\n",
       "      <th>win</th>\n",
       "      <td>1208</td>\n",
       "      <td>33.330298</td>\n",
       "      <td>51.011589</td>\n",
       "    </tr>\n",
       "  </tbody>\n",
       "</table>\n",
       "</div>"
      ],
      "text/plain": [
       "                             white_result  num_moves  rating_difference\n",
       "player_colour player_result                                            \n",
       "black         draw                    160  53.212500           6.718750\n",
       "              loss                   1059  35.423041         -15.586402\n",
       "              win                    1136  34.849472          46.610915\n",
       "white         draw                    139  53.784173           9.575540\n",
       "              loss                    998  34.865731         -14.777555\n",
       "              win                    1208  33.330298          51.011589"
      ]
     },
     "execution_count": 35,
     "metadata": {},
     "output_type": "execute_result"
    }
   ],
   "source": [
    "df_blitz.groupby(['player_colour','player_result']).agg({'white_result':'count','num_moves':'mean','rating_difference':'mean'})"
   ]
  },
  {
   "cell_type": "code",
   "execution_count": null,
   "metadata": {},
   "outputs": [],
   "source": []
  },
  {
   "cell_type": "code",
   "execution_count": 36,
   "metadata": {},
   "outputs": [
    {
     "data": {
      "text/html": [
       "<div>\n",
       "<style scoped>\n",
       "    .dataframe tbody tr th:only-of-type {\n",
       "        vertical-align: middle;\n",
       "    }\n",
       "\n",
       "    .dataframe tbody tr th {\n",
       "        vertical-align: top;\n",
       "    }\n",
       "\n",
       "    .dataframe thead th {\n",
       "        text-align: right;\n",
       "    }\n",
       "</style>\n",
       "<table border=\"1\" class=\"dataframe\">\n",
       "  <thead>\n",
       "    <tr style=\"text-align: right;\">\n",
       "      <th></th>\n",
       "      <th>white_result</th>\n",
       "      <th>num_moves</th>\n",
       "      <th>player_result_value</th>\n",
       "      <th>rating_difference</th>\n",
       "    </tr>\n",
       "    <tr>\n",
       "      <th>result_method</th>\n",
       "      <th></th>\n",
       "      <th></th>\n",
       "      <th></th>\n",
       "      <th></th>\n",
       "    </tr>\n",
       "  </thead>\n",
       "  <tbody>\n",
       "    <tr>\n",
       "      <th>abandoned</th>\n",
       "      <td>63</td>\n",
       "      <td>21.079365</td>\n",
       "      <td>0.968254</td>\n",
       "      <td>47.444444</td>\n",
       "    </tr>\n",
       "    <tr>\n",
       "      <th>agreed</th>\n",
       "      <td>25</td>\n",
       "      <td>44.360000</td>\n",
       "      <td>0.500000</td>\n",
       "      <td>13.240000</td>\n",
       "    </tr>\n",
       "    <tr>\n",
       "      <th>checkmated</th>\n",
       "      <td>1045</td>\n",
       "      <td>35.734928</td>\n",
       "      <td>0.697608</td>\n",
       "      <td>38.644019</td>\n",
       "    </tr>\n",
       "    <tr>\n",
       "      <th>insufficient</th>\n",
       "      <td>43</td>\n",
       "      <td>61.418605</td>\n",
       "      <td>0.500000</td>\n",
       "      <td>-5.558140</td>\n",
       "    </tr>\n",
       "    <tr>\n",
       "      <th>repetition</th>\n",
       "      <td>135</td>\n",
       "      <td>42.459259</td>\n",
       "      <td>0.500000</td>\n",
       "      <td>12.251852</td>\n",
       "    </tr>\n",
       "    <tr>\n",
       "      <th>resigned</th>\n",
       "      <td>2225</td>\n",
       "      <td>29.156404</td>\n",
       "      <td>0.490337</td>\n",
       "      <td>11.803596</td>\n",
       "    </tr>\n",
       "    <tr>\n",
       "      <th>stalemate</th>\n",
       "      <td>36</td>\n",
       "      <td>62.916667</td>\n",
       "      <td>0.500000</td>\n",
       "      <td>15.194444</td>\n",
       "    </tr>\n",
       "    <tr>\n",
       "      <th>timeout</th>\n",
       "      <td>1068</td>\n",
       "      <td>45.521536</td>\n",
       "      <td>0.433521</td>\n",
       "      <td>12.811798</td>\n",
       "    </tr>\n",
       "    <tr>\n",
       "      <th>timevsinsufficient</th>\n",
       "      <td>60</td>\n",
       "      <td>70.716667</td>\n",
       "      <td>0.500000</td>\n",
       "      <td>1.883333</td>\n",
       "    </tr>\n",
       "  </tbody>\n",
       "</table>\n",
       "</div>"
      ],
      "text/plain": [
       "                    white_result  num_moves  player_result_value  \\\n",
       "result_method                                                      \n",
       "abandoned                     63  21.079365             0.968254   \n",
       "agreed                        25  44.360000             0.500000   \n",
       "checkmated                  1045  35.734928             0.697608   \n",
       "insufficient                  43  61.418605             0.500000   \n",
       "repetition                   135  42.459259             0.500000   \n",
       "resigned                    2225  29.156404             0.490337   \n",
       "stalemate                     36  62.916667             0.500000   \n",
       "timeout                     1068  45.521536             0.433521   \n",
       "timevsinsufficient            60  70.716667             0.500000   \n",
       "\n",
       "                    rating_difference  \n",
       "result_method                          \n",
       "abandoned                   47.444444  \n",
       "agreed                      13.240000  \n",
       "checkmated                  38.644019  \n",
       "insufficient                -5.558140  \n",
       "repetition                  12.251852  \n",
       "resigned                    11.803596  \n",
       "stalemate                   15.194444  \n",
       "timeout                     12.811798  \n",
       "timevsinsufficient           1.883333  "
      ]
     },
     "execution_count": 36,
     "metadata": {},
     "output_type": "execute_result"
    }
   ],
   "source": [
    "df_blitz.groupby(['result_method']).agg({'white_result':'count','num_moves':'mean','player_result_value':'mean','rating_difference':'mean'})"
   ]
  },
  {
   "cell_type": "code",
   "execution_count": 37,
   "metadata": {},
   "outputs": [
    {
     "data": {
      "text/plain": [
       "<Axes: xlabel='start_time'>"
      ]
     },
     "execution_count": 37,
     "metadata": {},
     "output_type": "execute_result"
    },
    {
     "data": {
      "image/png": "[encoded data removed]",
      "text/plain": [
       "<Figure size 640x480 with 1 Axes>"
      ]
     },
     "metadata": {},
     "output_type": "display_data"
    },
    {
     "data": {
      "image/png": "[encoded data removed]",
      "text/plain": [
       "<Figure size 640x480 with 1 Axes>"
      ]
     },
     "metadata": {},
     "output_type": "display_data"
    },
    {
     "data": {
      "image/png": "[encoded data removed]",
      "text/plain": [
       "<Figure size 640x480 with 1 Axes>"
      ]
     },
     "metadata": {},
     "output_type": "display_data"
    }
   ],
   "source": [
    "df_blitz.plot('start_time','player_rating')\n",
    "df_bullet.plot('start_time','player_rating')\n",
    "df_rapid.plot('start_time','player_rating')"
   ]
  },
  {
   "cell_type": "code",
   "execution_count": 38,
   "metadata": {},
   "outputs": [
    {
     "data": {
      "text/html": [
       "<div>\n",
       "<style scoped>\n",
       "    .dataframe tbody tr th:only-of-type {\n",
       "        vertical-align: middle;\n",
       "    }\n",
       "\n",
       "    .dataframe tbody tr th {\n",
       "        vertical-align: top;\n",
       "    }\n",
       "\n",
       "    .dataframe thead th {\n",
       "        text-align: right;\n",
       "    }\n",
       "</style>\n",
       "<table border=\"1\" class=\"dataframe\">\n",
       "  <thead>\n",
       "    <tr style=\"text-align: right;\">\n",
       "      <th></th>\n",
       "      <th>URL</th>\n",
       "      <th>game_id</th>\n",
       "      <th>is_rated</th>\n",
       "      <th>time_control</th>\n",
       "      <th>time_class</th>\n",
       "      <th>start_time</th>\n",
       "      <th>end_time</th>\n",
       "      <th>num_moves</th>\n",
       "      <th>duration</th>\n",
       "      <th>white_username</th>\n",
       "      <th>...</th>\n",
       "      <th>black_username</th>\n",
       "      <th>black_result</th>\n",
       "      <th>player_colour</th>\n",
       "      <th>player_rating</th>\n",
       "      <th>opponent_colour</th>\n",
       "      <th>opponent_rating</th>\n",
       "      <th>rating_difference</th>\n",
       "      <th>player_result</th>\n",
       "      <th>player_result_value</th>\n",
       "      <th>result_method</th>\n",
       "    </tr>\n",
       "  </thead>\n",
       "  <tbody>\n",
       "    <tr>\n",
       "      <th>9461</th>\n",
       "      <td>https://www.chess.com/game/live/102924041075</td>\n",
       "      <td>102924041075</td>\n",
       "      <td>True</td>\n",
       "      <td>180</td>\n",
       "      <td>blitz</td>\n",
       "      <td>2024-02-29 05:39:05</td>\n",
       "      <td>2024-02-29 05:40:51</td>\n",
       "      <td>22</td>\n",
       "      <td>0 days 00:01:46</td>\n",
       "      <td>Kith4Smith</td>\n",
       "      <td>...</td>\n",
       "      <td>rohitg1234</td>\n",
       "      <td>win</td>\n",
       "      <td>black</td>\n",
       "      <td>1798</td>\n",
       "      <td>white</td>\n",
       "      <td>1789</td>\n",
       "      <td>9</td>\n",
       "      <td>win</td>\n",
       "      <td>1.0</td>\n",
       "      <td>resigned</td>\n",
       "    </tr>\n",
       "    <tr>\n",
       "      <th>9460</th>\n",
       "      <td>https://www.chess.com/game/live/102923973099</td>\n",
       "      <td>102923973099</td>\n",
       "      <td>True</td>\n",
       "      <td>180</td>\n",
       "      <td>blitz</td>\n",
       "      <td>2024-02-29 05:32:41</td>\n",
       "      <td>2024-02-29 05:39:05</td>\n",
       "      <td>77</td>\n",
       "      <td>0 days 00:06:24</td>\n",
       "      <td>rohitg1234</td>\n",
       "      <td>...</td>\n",
       "      <td>arya-vazifeh</td>\n",
       "      <td>insufficient</td>\n",
       "      <td>white</td>\n",
       "      <td>1790</td>\n",
       "      <td>black</td>\n",
       "      <td>1791</td>\n",
       "      <td>-1</td>\n",
       "      <td>draw</td>\n",
       "      <td>0.5</td>\n",
       "      <td>insufficient</td>\n",
       "    </tr>\n",
       "    <tr>\n",
       "      <th>9459</th>\n",
       "      <td>https://www.chess.com/game/live/102923422749</td>\n",
       "      <td>102923422749</td>\n",
       "      <td>True</td>\n",
       "      <td>180</td>\n",
       "      <td>blitz</td>\n",
       "      <td>2024-02-29 05:27:34</td>\n",
       "      <td>2024-02-29 05:32:46</td>\n",
       "      <td>34</td>\n",
       "      <td>0 days 00:05:12</td>\n",
       "      <td>sophdavis</td>\n",
       "      <td>...</td>\n",
       "      <td>rohitg1234</td>\n",
       "      <td>win</td>\n",
       "      <td>black</td>\n",
       "      <td>1790</td>\n",
       "      <td>white</td>\n",
       "      <td>1765</td>\n",
       "      <td>25</td>\n",
       "      <td>win</td>\n",
       "      <td>1.0</td>\n",
       "      <td>checkmated</td>\n",
       "    </tr>\n",
       "    <tr>\n",
       "      <th>9457</th>\n",
       "      <td>https://www.chess.com/game/live/102922861815</td>\n",
       "      <td>102922861815</td>\n",
       "      <td>True</td>\n",
       "      <td>180</td>\n",
       "      <td>blitz</td>\n",
       "      <td>2024-02-29 05:21:15</td>\n",
       "      <td>2024-02-29 05:21:25</td>\n",
       "      <td>6</td>\n",
       "      <td>0 days 00:00:10</td>\n",
       "      <td>rohitg1234</td>\n",
       "      <td>...</td>\n",
       "      <td>JorgeArenas2</td>\n",
       "      <td>win</td>\n",
       "      <td>white</td>\n",
       "      <td>1772</td>\n",
       "      <td>black</td>\n",
       "      <td>1806</td>\n",
       "      <td>-34</td>\n",
       "      <td>loss</td>\n",
       "      <td>0.0</td>\n",
       "      <td>resigned</td>\n",
       "    </tr>\n",
       "    <tr>\n",
       "      <th>9458</th>\n",
       "      <td>https://www.chess.com/game/live/102922864331</td>\n",
       "      <td>102922864331</td>\n",
       "      <td>True</td>\n",
       "      <td>180</td>\n",
       "      <td>blitz</td>\n",
       "      <td>2024-02-29 05:21:08</td>\n",
       "      <td>2024-02-29 05:27:32</td>\n",
       "      <td>64</td>\n",
       "      <td>0 days 00:06:24</td>\n",
       "      <td>rohitg1234</td>\n",
       "      <td>...</td>\n",
       "      <td>---Faniel</td>\n",
       "      <td>timeout</td>\n",
       "      <td>white</td>\n",
       "      <td>1782</td>\n",
       "      <td>black</td>\n",
       "      <td>1857</td>\n",
       "      <td>-75</td>\n",
       "      <td>win</td>\n",
       "      <td>1.0</td>\n",
       "      <td>timeout</td>\n",
       "    </tr>\n",
       "  </tbody>\n",
       "</table>\n",
       "<p>5 rows × 23 columns</p>\n",
       "</div>"
      ],
      "text/plain": [
       "                                               URL       game_id  is_rated  \\\n",
       "9461  https://www.chess.com/game/live/102924041075  102924041075      True   \n",
       "9460  https://www.chess.com/game/live/102923973099  102923973099      True   \n",
       "9459  https://www.chess.com/game/live/102923422749  102923422749      True   \n",
       "9457  https://www.chess.com/game/live/102922861815  102922861815      True   \n",
       "9458  https://www.chess.com/game/live/102922864331  102922864331      True   \n",
       "\n",
       "     time_control time_class          start_time            end_time  \\\n",
       "9461          180      blitz 2024-02-29 05:39:05 2024-02-29 05:40:51   \n",
       "9460          180      blitz 2024-02-29 05:32:41 2024-02-29 05:39:05   \n",
       "9459          180      blitz 2024-02-29 05:27:34 2024-02-29 05:32:46   \n",
       "9457          180      blitz 2024-02-29 05:21:15 2024-02-29 05:21:25   \n",
       "9458          180      blitz 2024-02-29 05:21:08 2024-02-29 05:27:32   \n",
       "\n",
       "      num_moves        duration white_username  ...  black_username  \\\n",
       "9461         22 0 days 00:01:46     Kith4Smith  ...      rohitg1234   \n",
       "9460         77 0 days 00:06:24     rohitg1234  ...    arya-vazifeh   \n",
       "9459         34 0 days 00:05:12      sophdavis  ...      rohitg1234   \n",
       "9457          6 0 days 00:00:10     rohitg1234  ...    JorgeArenas2   \n",
       "9458         64 0 days 00:06:24     rohitg1234  ...       ---Faniel   \n",
       "\n",
       "      black_result  player_colour player_rating opponent_colour  \\\n",
       "9461           win          black          1798           white   \n",
       "9460  insufficient          white          1790           black   \n",
       "9459           win          black          1790           white   \n",
       "9457           win          white          1772           black   \n",
       "9458       timeout          white          1782           black   \n",
       "\n",
       "     opponent_rating  rating_difference player_result  player_result_value  \\\n",
       "9461            1789                  9           win                  1.0   \n",
       "9460            1791                 -1          draw                  0.5   \n",
       "9459            1765                 25           win                  1.0   \n",
       "9457            1806                -34          loss                  0.0   \n",
       "9458            1857                -75           win                  1.0   \n",
       "\n",
       "      result_method  \n",
       "9461       resigned  \n",
       "9460   insufficient  \n",
       "9459     checkmated  \n",
       "9457       resigned  \n",
       "9458        timeout  \n",
       "\n",
       "[5 rows x 23 columns]"
      ]
     },
     "execution_count": 38,
     "metadata": {},
     "output_type": "execute_result"
    }
   ],
   "source": [
    "df.sort_values(by=['start_time'],ascending=False).head()"
   ]
  },
  {
   "cell_type": "code",
   "execution_count": 39,
   "metadata": {},
   "outputs": [
    {
     "data": {
      "text/html": [
       "<div>\n",
       "<style scoped>\n",
       "    .dataframe tbody tr th:only-of-type {\n",
       "        vertical-align: middle;\n",
       "    }\n",
       "\n",
       "    .dataframe tbody tr th {\n",
       "        vertical-align: top;\n",
       "    }\n",
       "\n",
       "    .dataframe thead th {\n",
       "        text-align: right;\n",
       "    }\n",
       "</style>\n",
       "<table border=\"1\" class=\"dataframe\">\n",
       "  <thead>\n",
       "    <tr style=\"text-align: right;\">\n",
       "      <th></th>\n",
       "      <th>URL</th>\n",
       "      <th>game_id</th>\n",
       "      <th>is_rated</th>\n",
       "      <th>time_control</th>\n",
       "      <th>time_class</th>\n",
       "      <th>start_time</th>\n",
       "      <th>end_time</th>\n",
       "      <th>num_moves</th>\n",
       "      <th>duration</th>\n",
       "      <th>white_username</th>\n",
       "      <th>...</th>\n",
       "      <th>black_username</th>\n",
       "      <th>black_result</th>\n",
       "      <th>player_colour</th>\n",
       "      <th>player_rating</th>\n",
       "      <th>opponent_colour</th>\n",
       "      <th>opponent_rating</th>\n",
       "      <th>rating_difference</th>\n",
       "      <th>player_result</th>\n",
       "      <th>player_result_value</th>\n",
       "      <th>result_method</th>\n",
       "    </tr>\n",
       "  </thead>\n",
       "  <tbody>\n",
       "    <tr>\n",
       "      <th>3935</th>\n",
       "      <td>https://www.chess.com/game/live/5006667039</td>\n",
       "      <td>5006667039</td>\n",
       "      <td>True</td>\n",
       "      <td>60</td>\n",
       "      <td>bullet</td>\n",
       "      <td>2020-06-15 19:33:54</td>\n",
       "      <td>2020-06-15 19:36:31</td>\n",
       "      <td>75</td>\n",
       "      <td>0 days 00:02:37</td>\n",
       "      <td>rohitg1234</td>\n",
       "      <td>...</td>\n",
       "      <td>lulajvi</td>\n",
       "      <td>timeout</td>\n",
       "      <td>white</td>\n",
       "      <td>1388</td>\n",
       "      <td>black</td>\n",
       "      <td>1341</td>\n",
       "      <td>47</td>\n",
       "      <td>win</td>\n",
       "      <td>1.0</td>\n",
       "      <td>timeout</td>\n",
       "    </tr>\n",
       "    <tr>\n",
       "      <th>3232</th>\n",
       "      <td>https://www.chess.com/game/live/4894558416</td>\n",
       "      <td>4894558416</td>\n",
       "      <td>True</td>\n",
       "      <td>60</td>\n",
       "      <td>bullet</td>\n",
       "      <td>2020-05-23 03:57:39</td>\n",
       "      <td>2020-05-23 04:00:12</td>\n",
       "      <td>73</td>\n",
       "      <td>0 days 00:02:33</td>\n",
       "      <td>mcs2001</td>\n",
       "      <td>...</td>\n",
       "      <td>rohitg1234</td>\n",
       "      <td>timevsinsufficient</td>\n",
       "      <td>black</td>\n",
       "      <td>1421</td>\n",
       "      <td>white</td>\n",
       "      <td>1565</td>\n",
       "      <td>-144</td>\n",
       "      <td>draw</td>\n",
       "      <td>0.5</td>\n",
       "      <td>timevsinsufficient</td>\n",
       "    </tr>\n",
       "    <tr>\n",
       "      <th>5767</th>\n",
       "      <td>https://www.chess.com/game/live/5977819676</td>\n",
       "      <td>5977819676</td>\n",
       "      <td>True</td>\n",
       "      <td>60</td>\n",
       "      <td>bullet</td>\n",
       "      <td>2020-12-16 03:36:18</td>\n",
       "      <td>2020-12-16 03:38:48</td>\n",
       "      <td>73</td>\n",
       "      <td>0 days 00:02:30</td>\n",
       "      <td>rohitg1234</td>\n",
       "      <td>...</td>\n",
       "      <td>SHRINK777</td>\n",
       "      <td>checkmated</td>\n",
       "      <td>white</td>\n",
       "      <td>1663</td>\n",
       "      <td>black</td>\n",
       "      <td>1603</td>\n",
       "      <td>60</td>\n",
       "      <td>win</td>\n",
       "      <td>1.0</td>\n",
       "      <td>checkmated</td>\n",
       "    </tr>\n",
       "    <tr>\n",
       "      <th>7884</th>\n",
       "      <td>https://www.chess.com/game/live/61680060231</td>\n",
       "      <td>61680060231</td>\n",
       "      <td>True</td>\n",
       "      <td>60+1</td>\n",
       "      <td>bullet</td>\n",
       "      <td>2022-11-08 20:58:05</td>\n",
       "      <td>2022-11-08 21:02:23</td>\n",
       "      <td>72</td>\n",
       "      <td>0 days 00:04:18</td>\n",
       "      <td>rohitg1234</td>\n",
       "      <td>...</td>\n",
       "      <td>khanzasubandi</td>\n",
       "      <td>win</td>\n",
       "      <td>white</td>\n",
       "      <td>1780</td>\n",
       "      <td>black</td>\n",
       "      <td>1860</td>\n",
       "      <td>-80</td>\n",
       "      <td>loss</td>\n",
       "      <td>0.0</td>\n",
       "      <td>resigned</td>\n",
       "    </tr>\n",
       "    <tr>\n",
       "      <th>2824</th>\n",
       "      <td>https://www.chess.com/game/live/4745601031</td>\n",
       "      <td>4745601031</td>\n",
       "      <td>True</td>\n",
       "      <td>60</td>\n",
       "      <td>bullet</td>\n",
       "      <td>2020-04-20 02:24:51</td>\n",
       "      <td>2020-04-20 02:27:17</td>\n",
       "      <td>72</td>\n",
       "      <td>0 days 00:02:26</td>\n",
       "      <td>rohitg1234</td>\n",
       "      <td>...</td>\n",
       "      <td>ayzikr</td>\n",
       "      <td>timevsinsufficient</td>\n",
       "      <td>white</td>\n",
       "      <td>1270</td>\n",
       "      <td>black</td>\n",
       "      <td>1292</td>\n",
       "      <td>-22</td>\n",
       "      <td>draw</td>\n",
       "      <td>0.5</td>\n",
       "      <td>timevsinsufficient</td>\n",
       "    </tr>\n",
       "    <tr>\n",
       "      <th>...</th>\n",
       "      <td>...</td>\n",
       "      <td>...</td>\n",
       "      <td>...</td>\n",
       "      <td>...</td>\n",
       "      <td>...</td>\n",
       "      <td>...</td>\n",
       "      <td>...</td>\n",
       "      <td>...</td>\n",
       "      <td>...</td>\n",
       "      <td>...</td>\n",
       "      <td>...</td>\n",
       "      <td>...</td>\n",
       "      <td>...</td>\n",
       "      <td>...</td>\n",
       "      <td>...</td>\n",
       "      <td>...</td>\n",
       "      <td>...</td>\n",
       "      <td>...</td>\n",
       "      <td>...</td>\n",
       "      <td>...</td>\n",
       "      <td>...</td>\n",
       "    </tr>\n",
       "    <tr>\n",
       "      <th>2128</th>\n",
       "      <td>https://www.chess.com/game/live/4574281494</td>\n",
       "      <td>4574281494</td>\n",
       "      <td>True</td>\n",
       "      <td>60</td>\n",
       "      <td>bullet</td>\n",
       "      <td>2020-03-08 18:52:41</td>\n",
       "      <td>2020-03-08 18:53:16</td>\n",
       "      <td>1</td>\n",
       "      <td>0 days 00:00:35</td>\n",
       "      <td>rohitg1234</td>\n",
       "      <td>...</td>\n",
       "      <td>chesshydra</td>\n",
       "      <td>win</td>\n",
       "      <td>white</td>\n",
       "      <td>1245</td>\n",
       "      <td>black</td>\n",
       "      <td>1321</td>\n",
       "      <td>-76</td>\n",
       "      <td>loss</td>\n",
       "      <td>0.0</td>\n",
       "      <td>abandoned</td>\n",
       "    </tr>\n",
       "    <tr>\n",
       "      <th>5551</th>\n",
       "      <td>https://www.chess.com/game/live/5694086130</td>\n",
       "      <td>5694086130</td>\n",
       "      <td>False</td>\n",
       "      <td>60</td>\n",
       "      <td>bullet</td>\n",
       "      <td>2020-11-06 02:46:55</td>\n",
       "      <td>2020-11-06 02:47:31</td>\n",
       "      <td>1</td>\n",
       "      <td>0 days 00:00:36</td>\n",
       "      <td>Anchisbad</td>\n",
       "      <td>...</td>\n",
       "      <td>rohitg1234</td>\n",
       "      <td>win</td>\n",
       "      <td>black</td>\n",
       "      <td>1706</td>\n",
       "      <td>white</td>\n",
       "      <td>1082</td>\n",
       "      <td>624</td>\n",
       "      <td>win</td>\n",
       "      <td>1.0</td>\n",
       "      <td>abandoned</td>\n",
       "    </tr>\n",
       "    <tr>\n",
       "      <th>3097</th>\n",
       "      <td>https://www.chess.com/game/live/4876348854</td>\n",
       "      <td>4876348854</td>\n",
       "      <td>True</td>\n",
       "      <td>60</td>\n",
       "      <td>bullet</td>\n",
       "      <td>2020-05-19 04:29:13</td>\n",
       "      <td>2020-05-19 04:29:46</td>\n",
       "      <td>1</td>\n",
       "      <td>0 days 00:00:33</td>\n",
       "      <td>RichPell</td>\n",
       "      <td>...</td>\n",
       "      <td>rohitg1234</td>\n",
       "      <td>win</td>\n",
       "      <td>black</td>\n",
       "      <td>1419</td>\n",
       "      <td>white</td>\n",
       "      <td>1322</td>\n",
       "      <td>97</td>\n",
       "      <td>win</td>\n",
       "      <td>1.0</td>\n",
       "      <td>abandoned</td>\n",
       "    </tr>\n",
       "    <tr>\n",
       "      <th>2873</th>\n",
       "      <td>https://www.chess.com/game/live/4821509363</td>\n",
       "      <td>4821509363</td>\n",
       "      <td>True</td>\n",
       "      <td>60</td>\n",
       "      <td>bullet</td>\n",
       "      <td>2020-05-07 04:00:09</td>\n",
       "      <td>2020-05-07 04:00:43</td>\n",
       "      <td>1</td>\n",
       "      <td>0 days 00:00:34</td>\n",
       "      <td>karen_mcdougal</td>\n",
       "      <td>...</td>\n",
       "      <td>rohitg1234</td>\n",
       "      <td>win</td>\n",
       "      <td>black</td>\n",
       "      <td>1272</td>\n",
       "      <td>white</td>\n",
       "      <td>1165</td>\n",
       "      <td>107</td>\n",
       "      <td>win</td>\n",
       "      <td>1.0</td>\n",
       "      <td>abandoned</td>\n",
       "    </tr>\n",
       "    <tr>\n",
       "      <th>5794</th>\n",
       "      <td>https://www.chess.com/game/live/6059588790</td>\n",
       "      <td>6059588790</td>\n",
       "      <td>True</td>\n",
       "      <td>60</td>\n",
       "      <td>bullet</td>\n",
       "      <td>2020-12-26 01:48:32</td>\n",
       "      <td>2020-12-26 01:48:32</td>\n",
       "      <td>1</td>\n",
       "      <td>0 days 00:00:00</td>\n",
       "      <td>penguinlogic</td>\n",
       "      <td>...</td>\n",
       "      <td>rohitg1234</td>\n",
       "      <td>win</td>\n",
       "      <td>black</td>\n",
       "      <td>1701</td>\n",
       "      <td>white</td>\n",
       "      <td>1703</td>\n",
       "      <td>-2</td>\n",
       "      <td>win</td>\n",
       "      <td>1.0</td>\n",
       "      <td>abandoned</td>\n",
       "    </tr>\n",
       "  </tbody>\n",
       "</table>\n",
       "<p>4348 rows × 23 columns</p>\n",
       "</div>"
      ],
      "text/plain": [
       "                                              URL      game_id  is_rated  \\\n",
       "3935   https://www.chess.com/game/live/5006667039   5006667039      True   \n",
       "3232   https://www.chess.com/game/live/4894558416   4894558416      True   \n",
       "5767   https://www.chess.com/game/live/5977819676   5977819676      True   \n",
       "7884  https://www.chess.com/game/live/61680060231  61680060231      True   \n",
       "2824   https://www.chess.com/game/live/4745601031   4745601031      True   \n",
       "...                                           ...          ...       ...   \n",
       "2128   https://www.chess.com/game/live/4574281494   4574281494      True   \n",
       "5551   https://www.chess.com/game/live/5694086130   5694086130     False   \n",
       "3097   https://www.chess.com/game/live/4876348854   4876348854      True   \n",
       "2873   https://www.chess.com/game/live/4821509363   4821509363      True   \n",
       "5794   https://www.chess.com/game/live/6059588790   6059588790      True   \n",
       "\n",
       "     time_control time_class          start_time            end_time  \\\n",
       "3935           60     bullet 2020-06-15 19:33:54 2020-06-15 19:36:31   \n",
       "3232           60     bullet 2020-05-23 03:57:39 2020-05-23 04:00:12   \n",
       "5767           60     bullet 2020-12-16 03:36:18 2020-12-16 03:38:48   \n",
       "7884         60+1     bullet 2022-11-08 20:58:05 2022-11-08 21:02:23   \n",
       "2824           60     bullet 2020-04-20 02:24:51 2020-04-20 02:27:17   \n",
       "...           ...        ...                 ...                 ...   \n",
       "2128           60     bullet 2020-03-08 18:52:41 2020-03-08 18:53:16   \n",
       "5551           60     bullet 2020-11-06 02:46:55 2020-11-06 02:47:31   \n",
       "3097           60     bullet 2020-05-19 04:29:13 2020-05-19 04:29:46   \n",
       "2873           60     bullet 2020-05-07 04:00:09 2020-05-07 04:00:43   \n",
       "5794           60     bullet 2020-12-26 01:48:32 2020-12-26 01:48:32   \n",
       "\n",
       "      num_moves        duration  white_username  ...  black_username  \\\n",
       "3935         75 0 days 00:02:37      rohitg1234  ...         lulajvi   \n",
       "3232         73 0 days 00:02:33         mcs2001  ...      rohitg1234   \n",
       "5767         73 0 days 00:02:30      rohitg1234  ...       SHRINK777   \n",
       "7884         72 0 days 00:04:18      rohitg1234  ...   khanzasubandi   \n",
       "2824         72 0 days 00:02:26      rohitg1234  ...          ayzikr   \n",
       "...         ...             ...             ...  ...             ...   \n",
       "2128          1 0 days 00:00:35      rohitg1234  ...      chesshydra   \n",
       "5551          1 0 days 00:00:36       Anchisbad  ...      rohitg1234   \n",
       "3097          1 0 days 00:00:33        RichPell  ...      rohitg1234   \n",
       "2873          1 0 days 00:00:34  karen_mcdougal  ...      rohitg1234   \n",
       "5794          1 0 days 00:00:00    penguinlogic  ...      rohitg1234   \n",
       "\n",
       "            black_result  player_colour player_rating opponent_colour  \\\n",
       "3935             timeout          white          1388           black   \n",
       "3232  timevsinsufficient          black          1421           white   \n",
       "5767          checkmated          white          1663           black   \n",
       "7884                 win          white          1780           black   \n",
       "2824  timevsinsufficient          white          1270           black   \n",
       "...                  ...            ...           ...             ...   \n",
       "2128                 win          white          1245           black   \n",
       "5551                 win          black          1706           white   \n",
       "3097                 win          black          1419           white   \n",
       "2873                 win          black          1272           white   \n",
       "5794                 win          black          1701           white   \n",
       "\n",
       "     opponent_rating  rating_difference player_result  player_result_value  \\\n",
       "3935            1341                 47           win                  1.0   \n",
       "3232            1565               -144          draw                  0.5   \n",
       "5767            1603                 60           win                  1.0   \n",
       "7884            1860                -80          loss                  0.0   \n",
       "2824            1292                -22          draw                  0.5   \n",
       "...              ...                ...           ...                  ...   \n",
       "2128            1321                -76          loss                  0.0   \n",
       "5551            1082                624           win                  1.0   \n",
       "3097            1322                 97           win                  1.0   \n",
       "2873            1165                107           win                  1.0   \n",
       "5794            1703                 -2           win                  1.0   \n",
       "\n",
       "           result_method  \n",
       "3935             timeout  \n",
       "3232  timevsinsufficient  \n",
       "5767          checkmated  \n",
       "7884            resigned  \n",
       "2824  timevsinsufficient  \n",
       "...                  ...  \n",
       "2128           abandoned  \n",
       "5551           abandoned  \n",
       "3097           abandoned  \n",
       "2873           abandoned  \n",
       "5794           abandoned  \n",
       "\n",
       "[4348 rows x 23 columns]"
      ]
     },
     "execution_count": 39,
     "metadata": {},
     "output_type": "execute_result"
    }
   ],
   "source": [
    "df[df['time_class'] == 'bullet'].sort_values(by=['num_moves'],ascending=False)"
   ]
  },
  {
   "cell_type": "code",
   "execution_count": 40,
   "metadata": {},
   "outputs": [],
   "source": [
    "def getRestrictedDF(df,num_games = None, date_range = None ,is_rated = True, time_class = 'blitz'):\n",
    "    if num_games is None and date_range is None:\n",
    "        print('Invalid range provided')\n",
    "        df_restricted = df[(df['is_rated'] == is_rated)&(df['time_class'] == time_class)] \n",
    "    \n",
    "    elif num_games is None:\n",
    "        if type(date_range) is tuple:\n",
    "            start_date = date_range[0]\n",
    "            end_date = date_range[1]\n",
    "        else:\n",
    "            start_date = date_range\n",
    "            end_date = datetime.datetime.today()\n",
    "        df_restricted = df[(start_date <= df['start_date'])&(end_date >= df['start_date'])&(df['is_rated'] == is_rated)&(df['time_class'] == time_class)]\n",
    "    \n",
    "    elif date_range is None:\n",
    "        if type(num_games) is tuple:\n",
    "            start_range = num_games[0]\n",
    "            end_range = num_games[1]\n",
    "            df_restricted = df[(df['is_rated'] == is_rated)&(df['time_class'] == time_class)].iloc[start_range:end_range]\n",
    "        else:\n",
    "            start_range = -1*num_games\n",
    "            #print('hi')\n",
    "            df_restricted = df[(df['is_rated'] == is_rated)&(df['time_class'] == time_class)].iloc[start_range:]\n",
    "        \n",
    "    \n",
    "    return df_restricted\n",
    "\n"
   ]
  },
  {
   "cell_type": "code",
   "execution_count": 41,
   "metadata": {},
   "outputs": [
    {
     "data": {
      "image/png": "[encoded data removed]",
      "text/plain": [
       "<Figure size 2200x900 with 9 Axes>"
      ]
     },
     "metadata": {},
     "output_type": "display_data"
    }
   ],
   "source": [
    "import math\n",
    "\n",
    "time_class = 'blitz'\n",
    "is_rated = True\n",
    "NUM_GAMES = len(df[(df['time_class'] == time_class)&(df['is_rated'] == is_rated)])\n",
    "num_buckets = 9\n",
    "if num_buckets is None:\n",
    "    bucket_size = 100\n",
    "    num_buckets = math.ceil(NUM_GAMES/bucket_size)\n",
    "else:\n",
    "    bucket_size = math.ceil(NUM_GAMES/num_buckets)\n",
    "\n",
    "num_cols = 2 if num_buckets <=4 else 3\n",
    "num_rows = math.ceil((NUM_GAMES/bucket_size)/num_cols)\n",
    "\n",
    "fig,ax = plt.subplots(ncols = num_cols, nrows= num_rows)\n",
    "x,y = 0,0\n",
    "fig.set_size_inches(w = 22, h = num_rows*3)\n",
    "\n",
    "for i in range(num_buckets):\n",
    "    df_rest = getRestrictedDF(df,num_games=(i*bucket_size,(i+1)*bucket_size),time_class=time_class)\n",
    "    ax[x,y].plot(np.arange(len(df_rest)),df_rest['player_rating'])\n",
    "    ax[x,y].set_title(\"Games {:.0f} - {:.0f}\".format(i*bucket_size,i*bucket_size + len(df_rest)))\n",
    "    y += 1\n",
    "    if y==num_cols:\n",
    "        x +=1\n",
    "        y = 0\n",
    "\n",
    "plt.subplots_adjust(hspace=0.3)\n",
    "plt.show()"
   ]
  },
  {
   "cell_type": "code",
   "execution_count": 43,
   "metadata": {},
   "outputs": [
    {
     "ename": "ModuleNotFoundError",
     "evalue": "No module named 'statsmodels'",
     "output_type": "error",
     "traceback": [
      "\u001b[0;31m---------------------------------------------------------------------------\u001b[0m",
      "\u001b[0;31mModuleNotFoundError\u001b[0m                       Traceback (most recent call last)",
      "Cell \u001b[0;32mIn[43], line 1\u001b[0m\n\u001b[0;32m----> 1\u001b[0m \u001b[38;5;28;01mfrom\u001b[39;00m \u001b[38;5;21;01mstatsmodels\u001b[39;00m\u001b[38;5;21;01m.\u001b[39;00m\u001b[38;5;21;01mgraphics\u001b[39;00m\u001b[38;5;21;01m.\u001b[39;00m\u001b[38;5;21;01mtsaplots\u001b[39;00m \u001b[38;5;28;01mimport\u001b[39;00m plot_acf\n\u001b[1;32m      3\u001b[0m plot_acf(getRestrictedDF(df,num_games\u001b[38;5;241m=\u001b[39m\u001b[38;5;241m300\u001b[39m,time_class\u001b[38;5;241m=\u001b[39m\u001b[38;5;124m'\u001b[39m\u001b[38;5;124mblitz\u001b[39m\u001b[38;5;124m'\u001b[39m)[\u001b[38;5;124m'\u001b[39m\u001b[38;5;124mplayer_rating\u001b[39m\u001b[38;5;124m'\u001b[39m])\n",
      "\u001b[0;31mModuleNotFoundError\u001b[0m: No module named 'statsmodels'"
     ]
    }
   ],
   "source": [
    "from statsmodels.graphics.tsaplots import plot_acf\n",
    "\n",
    "plot_acf(getRestrictedDF(df,num_games=300,time_class='blitz')['player_rating'])\n"
   ]
  },
  {
   "cell_type": "code",
   "execution_count": 44,
   "metadata": {},
   "outputs": [
    {
     "name": "stdout",
     "output_type": "stream",
     "text": [
      "[Event \"Live Chess\"]\n",
      "[Site \"Chess.com\"]\n",
      "[Date \"2018.09.07\"]\n",
      "[Round \"-\"]\n",
      "[White \"WVMLL\"]\n",
      "[Black \"rohitg1234\"]\n",
      "[Result \"1-0\"]\n",
      "[CurrentPosition \"2R5/6k1/2p3p1/p1P4p/Pn5P/5NP1/4rPK1/8 b - -\"]\n",
      "[Timezone \"UTC\"]\n",
      "[ECO \"C42\"]\n",
      "[ECOUrl \"https://www.chess.com/openings/Petrovs-Defense-Three-Knights-Game\"]\n",
      "[UTCDate \"2018.09.07\"]\n",
      "[UTCTime \"17:35:17\"]\n",
      "[WhiteElo \"1186\"]\n",
      "[BlackElo \"966\"]\n",
      "[TimeControl \"600\"]\n",
      "[Termination \"WVMLL won on time\"]\n",
      "[StartTime \"17:35:17\"]\n",
      "[EndDate \"2018.09.07\"]\n",
      "[EndTime \"17:51:09\"]\n",
      "[Link \"https://www.chess.com/game/live/3059517172\"]\n",
      "\n",
      "1. e4 {[%clk 0:09:55.4]} 1... e5 {[%clk 0:09:57.1]} 2. Nf3 {[%clk 0:09:48.4]} 2... Nf6 {[%clk 0:09:51.3]} 3. Nc3 {[%clk 0:09:42.4]} 3... g6 {[%clk 0:09:32.6]} 4. Nxe5 {[%clk 0:09:36.2]} 4... d6 {[%clk 0:09:26.8]} 5. Nf3 {[%clk 0:09:33.3]} 5... Bg7 {[%clk 0:09:23.7]} 6. d3 {[%clk 0:09:26.9]} 6... O-O {[%clk 0:09:21.2]} 7. Nd5 {[%clk 0:09:19.6]} 7... Be6 {[%clk 0:09:11.1]} 8. Bg5 {[%clk 0:09:10.1]} 8... Nc6 {[%clk 0:08:58.5]} 9. Nxf6+ {[%clk 0:08:56.7]} 9... Bxf6 {[%clk 0:08:55.9]} 10. Bxf6 {[%clk 0:08:38.8]} 10... Qxf6 {[%clk 0:08:54.1]} 11. d4 {[%clk 0:08:35.6]} 11... d5 {[%clk 0:08:34.7]} 12. exd5 {[%clk 0:08:31.8]} 12... Bxd5 {[%clk 0:08:32.4]} 13. c3 {[%clk 0:08:23.1]} 13... Be4 {[%clk 0:07:55.1]} 14. h3 {[%clk 0:08:03.3]} 14... Ne7 {[%clk 0:07:40.5]} 15. Bd3 {[%clk 0:07:53.3]} 15... Qc6 {[%clk 0:06:55.2]} 16. Bxe4 {[%clk 0:07:38]} 16... Qxe4+ {[%clk 0:06:52.6]} 17. Qe2 {[%clk 0:07:30.2]} 17... Qxe2+ {[%clk 0:06:47.3]} 18. Kxe2 {[%clk 0:07:28.5]} 18... Rad8 {[%clk 0:06:37.4]} 19. Rhe1 {[%clk 0:07:22.1]} 19... Rfe8 {[%clk 0:06:28.3]} 20. Kf1 {[%clk 0:07:19.5]} 20... b6 {[%clk 0:06:26.5]} 21. Kg1 {[%clk 0:07:16.6]} 21... a5 {[%clk 0:06:11.2]} 22. a4 {[%clk 0:07:09.9]} 22... Kh8 {[%clk 0:06:00.2]} 23. Rad1 {[%clk 0:07:04.8]} 23... c6 {[%clk 0:05:20.6]} 24. Ne5 {[%clk 0:07:02.6]} 24... Kg7 {[%clk 0:05:02.4]} 25. b4 {[%clk 0:06:43.4]} 25... f6 {[%clk 0:04:49.7]} 26. Nf3 {[%clk 0:06:30]} 26... Nd5 {[%clk 0:04:44.6]} 27. c4 {[%clk 0:06:17.8]} 27... Nxb4 {[%clk 0:04:39]} 28. c5 {[%clk 0:06:04.2]} 28... bxc5 {[%clk 0:04:22.7]} 29. dxc5 {[%clk 0:06:00.4]} 29... Rc8 {[%clk 0:04:11.5]} 30. Rxe8 {[%clk 0:05:47.1]} 30... Rxe8 {[%clk 0:04:08.4]} 31. Rd6 {[%clk 0:05:44.8]} 31... Rc8 {[%clk 0:03:28.6]} 32. Nd4 {[%clk 0:05:33.9]} 32... h5 {[%clk 0:03:00.1]} 33. Ne6+ {[%clk 0:05:31.8]} 33... Kh6 {[%clk 0:02:39.4]} 34. Nd4 {[%clk 0:05:26.3]} 34... Re8 {[%clk 0:01:45.6]} 35. Rxf6 {[%clk 0:05:21.8]} 35... Re1+ {[%clk 0:01:35.8]} 36. Kh2 {[%clk 0:05:18.3]} 36... Kg5 {[%clk 0:01:33.8]} 37. Rf8 {[%clk 0:05:10.4]} 37... Re4 {[%clk 0:01:03.2]} 38. Nf3+ {[%clk 0:04:59.6]} 38... Kh6 {[%clk 0:00:12.3]} 39. Rh8+ {[%clk 0:04:53.9]} 39... Kg7 {[%clk 0:00:06.8]} 40. Rc8 {[%clk 0:04:51.2]} 40... Kh6 {[%clk 0:00:04.5]} 41. g3 {[%clk 0:04:37.4]} 41... Kg7 {[%clk 0:00:04.1]} 42. h4 {[%clk 0:04:35.6]} 42... Re2 {[%clk 0:00:01.9]} 43. Kg2 {[%clk 0:04:29.9]} 1-0\n",
      "\n"
     ]
    }
   ],
   "source": [
    "print(data_json_list[1]['pgn'])"
   ]
  },
  {
   "cell_type": "code",
   "execution_count": 45,
   "metadata": {},
   "outputs": [
    {
     "data": {
      "text/plain": [
       "{'url': 'https://www.chess.com/game/live/3059517172',\n",
       " 'pgn': '[Event \"Live Chess\"]\\n[Site \"Chess.com\"]\\n[Date \"2018.09.07\"]\\n[Round \"-\"]\\n[White \"WVMLL\"]\\n[Black \"rohitg1234\"]\\n[Result \"1-0\"]\\n[CurrentPosition \"2R5/6k1/2p3p1/p1P4p/Pn5P/5NP1/4rPK1/8 b - -\"]\\n[Timezone \"UTC\"]\\n[ECO \"C42\"]\\n[ECOUrl \"https://www.chess.com/openings/Petrovs-Defense-Three-Knights-Game\"]\\n[UTCDate \"2018.09.07\"]\\n[UTCTime \"17:35:17\"]\\n[WhiteElo \"1186\"]\\n[BlackElo \"966\"]\\n[TimeControl \"600\"]\\n[Termination \"WVMLL won on time\"]\\n[StartTime \"17:35:17\"]\\n[EndDate \"2018.09.07\"]\\n[EndTime \"17:51:09\"]\\n[Link \"https://www.chess.com/game/live/3059517172\"]\\n\\n1. e4 {[%clk 0:09:55.4]} 1... e5 {[%clk 0:09:57.1]} 2. Nf3 {[%clk 0:09:48.4]} 2... Nf6 {[%clk 0:09:51.3]} 3. Nc3 {[%clk 0:09:42.4]} 3... g6 {[%clk 0:09:32.6]} 4. Nxe5 {[%clk 0:09:36.2]} 4... d6 {[%clk 0:09:26.8]} 5. Nf3 {[%clk 0:09:33.3]} 5... Bg7 {[%clk 0:09:23.7]} 6. d3 {[%clk 0:09:26.9]} 6... O-O {[%clk 0:09:21.2]} 7. Nd5 {[%clk 0:09:19.6]} 7... Be6 {[%clk 0:09:11.1]} 8. Bg5 {[%clk 0:09:10.1]} 8... Nc6 {[%clk 0:08:58.5]} 9. Nxf6+ {[%clk 0:08:56.7]} 9... Bxf6 {[%clk 0:08:55.9]} 10. Bxf6 {[%clk 0:08:38.8]} 10... Qxf6 {[%clk 0:08:54.1]} 11. d4 {[%clk 0:08:35.6]} 11... d5 {[%clk 0:08:34.7]} 12. exd5 {[%clk 0:08:31.8]} 12... Bxd5 {[%clk 0:08:32.4]} 13. c3 {[%clk 0:08:23.1]} 13... Be4 {[%clk 0:07:55.1]} 14. h3 {[%clk 0:08:03.3]} 14... Ne7 {[%clk 0:07:40.5]} 15. Bd3 {[%clk 0:07:53.3]} 15... Qc6 {[%clk 0:06:55.2]} 16. Bxe4 {[%clk 0:07:38]} 16... Qxe4+ {[%clk 0:06:52.6]} 17. Qe2 {[%clk 0:07:30.2]} 17... Qxe2+ {[%clk 0:06:47.3]} 18. Kxe2 {[%clk 0:07:28.5]} 18... Rad8 {[%clk 0:06:37.4]} 19. Rhe1 {[%clk 0:07:22.1]} 19... Rfe8 {[%clk 0:06:28.3]} 20. Kf1 {[%clk 0:07:19.5]} 20... b6 {[%clk 0:06:26.5]} 21. Kg1 {[%clk 0:07:16.6]} 21... a5 {[%clk 0:06:11.2]} 22. a4 {[%clk 0:07:09.9]} 22... Kh8 {[%clk 0:06:00.2]} 23. Rad1 {[%clk 0:07:04.8]} 23... c6 {[%clk 0:05:20.6]} 24. Ne5 {[%clk 0:07:02.6]} 24... Kg7 {[%clk 0:05:02.4]} 25. b4 {[%clk 0:06:43.4]} 25... f6 {[%clk 0:04:49.7]} 26. Nf3 {[%clk 0:06:30]} 26... Nd5 {[%clk 0:04:44.6]} 27. c4 {[%clk 0:06:17.8]} 27... Nxb4 {[%clk 0:04:39]} 28. c5 {[%clk 0:06:04.2]} 28... bxc5 {[%clk 0:04:22.7]} 29. dxc5 {[%clk 0:06:00.4]} 29... Rc8 {[%clk 0:04:11.5]} 30. Rxe8 {[%clk 0:05:47.1]} 30... Rxe8 {[%clk 0:04:08.4]} 31. Rd6 {[%clk 0:05:44.8]} 31... Rc8 {[%clk 0:03:28.6]} 32. Nd4 {[%clk 0:05:33.9]} 32... h5 {[%clk 0:03:00.1]} 33. Ne6+ {[%clk 0:05:31.8]} 33... Kh6 {[%clk 0:02:39.4]} 34. Nd4 {[%clk 0:05:26.3]} 34... Re8 {[%clk 0:01:45.6]} 35. Rxf6 {[%clk 0:05:21.8]} 35... Re1+ {[%clk 0:01:35.8]} 36. Kh2 {[%clk 0:05:18.3]} 36... Kg5 {[%clk 0:01:33.8]} 37. Rf8 {[%clk 0:05:10.4]} 37... Re4 {[%clk 0:01:03.2]} 38. Nf3+ {[%clk 0:04:59.6]} 38... Kh6 {[%clk 0:00:12.3]} 39. Rh8+ {[%clk 0:04:53.9]} 39... Kg7 {[%clk 0:00:06.8]} 40. Rc8 {[%clk 0:04:51.2]} 40... Kh6 {[%clk 0:00:04.5]} 41. g3 {[%clk 0:04:37.4]} 41... Kg7 {[%clk 0:00:04.1]} 42. h4 {[%clk 0:04:35.6]} 42... Re2 {[%clk 0:00:01.9]} 43. Kg2 {[%clk 0:04:29.9]} 1-0\\n',\n",
       " 'time_control': '600',\n",
       " 'end_time': 1536342669,\n",
       " 'rated': True,\n",
       " 'tcn': 'mC0Kgv!Tbs2UvKZRKv92lt8!sJ6ScM5QJT2TMT7TtBRJCJSJksJCpxQ0ftTQtCQCdmCmem47he98mfXPfgWGiy!?adYQvK?2jz1TKv0JsAJzAIPIBI76e868dR86vB3NBS2VSB68RT8egpVMT9eCBvMV9?V2?62VowV2xFCmpo',\n",
       " 'uuid': '6bbe81a8-d348-11e3-8000-000000010001',\n",
       " 'initial_setup': 'rnbqkbnr/pppppppp/8/8/8/8/PPPPPPPP/RNBQKBNR w KQkq - 0 1',\n",
       " 'fen': '2R5/6k1/2p3p1/p1P4p/Pn5P/5NP1/4rPK1/8 b - -',\n",
       " 'time_class': 'blitz',\n",
       " 'rules': 'chess',\n",
       " 'white': {'rating': 1186,\n",
       "  'result': 'win',\n",
       "  '@id': 'https://api.chess.com/pub/player/wvmll',\n",
       "  'username': 'WVMLL',\n",
       "  'uuid': '83ac5530-40b1-11de-8051-000000000000'},\n",
       " 'black': {'rating': 966,\n",
       "  'result': 'timeout',\n",
       "  '@id': 'https://api.chess.com/pub/player/rohitg1234',\n",
       "  'username': 'rohitg1234',\n",
       "  'uuid': 'f7cfb866-90d5-11e8-8026-000000000000'}}"
      ]
     },
     "execution_count": 45,
     "metadata": {},
     "output_type": "execute_result"
    }
   ],
   "source": [
    "data_json_list[1]"
   ]
  },
  {
   "cell_type": "code",
   "execution_count": 46,
   "metadata": {},
   "outputs": [
    {
     "data": {
      "text/plain": [
       "Index(['URL', 'game_id', 'is_rated', 'time_control', 'time_class',\n",
       "       'start_time', 'end_time', 'num_moves', 'duration', 'white_username',\n",
       "       'white_rating', 'white_result', 'black_rating', 'black_username',\n",
       "       'black_result', 'player_colour', 'player_rating', 'opponent_colour',\n",
       "       'opponent_rating', 'rating_difference', 'player_result',\n",
       "       'player_result_value', 'result_method'],\n",
       "      dtype='object')"
      ]
     },
     "execution_count": 46,
     "metadata": {},
     "output_type": "execute_result"
    }
   ],
   "source": [
    "df.columns"
   ]
  },
  {
   "cell_type": "code",
   "execution_count": 47,
   "metadata": {},
   "outputs": [],
   "source": [
    "def getExpectedScore(r1,r2):\n",
    "    d = r2-r1\n",
    "    E1 = 1/(1+10**(d/400))\n",
    "    E2 = 1/(1+10**(-d/400))\n",
    "    return (E1,E2)\n",
    "\n",
    "def getExpectedScoreFromDifference(d):\n",
    "    E1 = 1/(1+10**(d/400))\n",
    "    E2 = 1/(1+10**(-d/400))\n",
    "    return (E1,E2)\n",
    "\n",
    "def updateRating(r1,r2,result,K=16):\n",
    "    E = getExpectedScore(r1,r2)\n",
    "    r1 = r1 + K*(result - E[0])\n",
    "    r2 = r2 + K*((1-result) - E[1])\n",
    "    return (r1,r2)\n",
    "\n",
    "def getOriginalRating(r1,r2,result,K=16): # takes the post-game rating and estimates the pre-game rating\n",
    "    pass\n"
   ]
  },
  {
   "cell_type": "code",
   "execution_count": 48,
   "metadata": {},
   "outputs": [
    {
     "data": {
      "text/plain": [
       "(0.5, 0.5)"
      ]
     },
     "execution_count": 48,
     "metadata": {},
     "output_type": "execute_result"
    }
   ],
   "source": [
    "getExpectedScore(1500,1500)"
   ]
  },
  {
   "cell_type": "code",
   "execution_count": 49,
   "metadata": {},
   "outputs": [
    {
     "data": {
      "text/plain": [
       "(1508.0, 1492.0)"
      ]
     },
     "execution_count": 49,
     "metadata": {},
     "output_type": "execute_result"
    }
   ],
   "source": [
    "updateRating(1500,1500,1)"
   ]
  },
  {
   "cell_type": "code",
   "execution_count": 50,
   "metadata": {},
   "outputs": [],
   "source": [
    "df_blitz_rating = getRestrictedDF(df,num_games=2000,time_class='blitz')[['game_id','player_rating','opponent_rating','player_result','player_result_value']]\n",
    "df_blitz_rating['game_number'] = np.arange(1,len(df_blitz_rating)+1)\n",
    "df_blitz_rating['prev_game_number'] = np.arange(len(df_blitz_rating))"
   ]
  },
  {
   "cell_type": "code",
   "execution_count": 51,
   "metadata": {},
   "outputs": [],
   "source": [
    "K = 16\n",
    "\n",
    "df_change = df_blitz_rating.merge(df_blitz_rating,how='left',left_on='prev_game_number',right_on='game_number',suffixes=('','_prev'))[['game_id','player_rating_prev','player_result','player_result_value','player_rating','opponent_rating']].iloc[1:]\n",
    "\n",
    "df_change['player_rating_change'] = df_change['player_rating'] - df_change['player_rating_prev']\n",
    "df_change['opponent_rating_change'] =-df_change['player_rating_change']\n",
    "df_change['opponent_rating_prev'] = df_change['opponent_rating'] - df_change['opponent_rating_change']\n",
    "df_change['difference'] = df_change['opponent_rating_prev'] - df_change['player_rating_prev'] \n",
    "df_change['expected_score'] = getExpectedScoreFromDifference(df_change['difference'])[0]\n",
    "\n",
    "df_change = df_change[['game_id','player_rating_prev','opponent_rating_prev','difference','expected_score','player_result_value','player_rating_change','player_rating','opponent_rating']]\n",
    "\n",
    "df_change = df_change[np.abs(df_change['player_rating_change']) <= 20]\n",
    "df_change = df_change[np.abs(df_change['difference']) <= 400]"
   ]
  },
  {
   "cell_type": "code",
   "execution_count": 52,
   "metadata": {},
   "outputs": [
    {
     "data": {
      "image/png": "[encoded data removed]",
      "text/plain": [
       "<Figure size 640x480 with 1 Axes>"
      ]
     },
     "metadata": {},
     "output_type": "display_data"
    }
   ],
   "source": [
    "plt.hist(df_change['player_rating_change'],bins=np.arange(-20,21))\n",
    "plt.show()"
   ]
  },
  {
   "cell_type": "code",
   "execution_count": 53,
   "metadata": {},
   "outputs": [],
   "source": [
    "c_list = np.arange(20,75)\n",
    "\n",
    "MSEs = []\n",
    "\n",
    "for c in c_list:\n",
    "    penalty = np.sign(df_change['difference'])*np.floor(np.abs(df_change['difference'])/c)\n",
    "    heuristic_val = K*(df_change['player_result_value'] - 0.5) + penalty\n",
    "    heuristic_val =  np.where(df_change['player_result_value'] == 1,np.maximum(0,heuristic_val) ,heuristic_val)\n",
    "    heuristic_error = df_change['player_rating_change'] - heuristic_val\n",
    "    MSEs.append(np.mean(np.square(heuristic_error)))\n",
    "\n",
    "lin_penalty = pd.Series(data=MSEs,index=c_list)\n",
    "min_index = np.argmin(lin_penalty)\n",
    "best_C_linear = c_list[min_index]\n",
    "MSE_C_linear = MSEs[min_index]"
   ]
  },
  {
   "cell_type": "code",
   "execution_count": 54,
   "metadata": {},
   "outputs": [],
   "source": [
    "c_list = np.linspace(start=2,stop=6,num=1000)\n",
    "\n",
    "MSEs = []\n",
    "\n",
    "for c in c_list:\n",
    "    penalty = np.sign(df_change['difference'])*np.floor(np.sqrt(np.abs(df_change['difference']))/c)\n",
    "    heuristic_val = K*(df_change['player_result_value'] - 0.5) + penalty\n",
    "    heuristic_val =  np.where(df_change['player_result_value'] == 1,np.maximum(0,heuristic_val) ,heuristic_val)\n",
    "    heuristic_error = df_change['player_rating_change'] - heuristic_val\n",
    "    MSEs.append(np.mean(np.square(heuristic_error)))\n",
    "\n",
    "sqrt_penalty = pd.Series(data=MSEs,index=c_list)\n",
    "min_index = np.argmin(sqrt_penalty)\n",
    "best_C_sqrt = c_list[min_index]\n",
    "MSE_C_sqrt = MSEs[min_index]"
   ]
  },
  {
   "cell_type": "code",
   "execution_count": 146,
   "metadata": {},
   "outputs": [
    {
     "name": "stdout",
     "output_type": "stream",
     "text": [
      "(1950,)\n",
      "(1950,)\n",
      "(1950,)\n",
      "(1950,)\n",
      "(1950,)\n",
      "(1950,)\n",
      "(1950,)\n",
      "(1950,)\n",
      "(1950,)\n",
      "(1950,)\n",
      "(1950,)\n",
      "(1950,)\n",
      "(1950,)\n",
      "(1950,)\n",
      "(1950,)\n",
      "(1950,)\n",
      "(1950,)\n",
      "(1950,)\n",
      "(1950,)\n",
      "(1950,)\n",
      "(1950,)\n",
      "(1950,)\n",
      "(1950,)\n",
      "(1950,)\n",
      "(1950,)\n",
      "(1950,)\n",
      "(1950,)\n",
      "(1950,)\n",
      "(1950,)\n",
      "(1950,)\n",
      "(1950,)\n",
      "(1950,)\n",
      "(1950,)\n",
      "(1950,)\n",
      "(1950,)\n",
      "(1950,)\n",
      "(1950,)\n",
      "(1950,)\n",
      "(1950,)\n",
      "(1950,)\n"
     ]
    }
   ],
   "source": [
    "c_list = np.arange(1,5, step = 0.1)\n",
    "\n",
    "MSEs = []\n",
    "\n",
    "for c in c_list:\n",
    "    penalty = np.sign(df_change['difference'])*np.floor(np.log(1 + np.abs(df_change['difference']))/c)\n",
    "    heuristic_val = K*(df_change['player_result_value'] - 0.5) + penalty\n",
    "    heuristic_val =  np.where(df_change['player_result_value'] == 1,np.maximum(0,heuristic_val) ,heuristic_val)\n",
    "    heuristic_error = df_change['player_rating_change'] - heuristic_val\n",
    "    print(heuristic_error.shape)\n",
    "    MSEs.append(np.mean(np.square(heuristic_error)))\n",
    "\n",
    "log_penalty = pd.Series(data=MSEs,index=c_list)\n",
    "min_index = np.argmin(log_penalty)\n",
    "best_C_log = c_list[min_index]\n",
    "MSE_C_log = MSEs[min_index]"
   ]
  },
  {
   "cell_type": "code",
   "execution_count": 56,
   "metadata": {},
   "outputs": [],
   "source": [
    "crit_val = best_C_sqrt\n",
    "K = 16\n",
    "\n",
    "#penalty = np.sign(df_change['difference'])*np.floor(np.abs(df_change['difference'])/crit_val) # c = 30:MSE = 1.008008008008008, 32: MSE = 0.8\n",
    "penalty = np.sign(df_change['difference'])*np.floor(np.sqrt(np.abs(df_change['difference']))/crit_val) #  MSE = 0.82 \n",
    "\n",
    "heuristic_val = K*(df_change['player_result_value'] - 0.5) + penalty\n",
    "\n",
    "df_change['sqrt_heuristic'] =  np.where(df_change['player_result_value'] == 1,np.maximum(0,heuristic_val) ,heuristic_val)\n",
    "df_change['sqrt_heuristic_error'] = df_change['player_rating_change'] - df_change['sqrt_heuristic']"
   ]
  },
  {
   "cell_type": "code",
   "execution_count": 57,
   "metadata": {},
   "outputs": [
    {
     "data": {
      "text/plain": [
       "0.16205128205128205"
      ]
     },
     "execution_count": 57,
     "metadata": {},
     "output_type": "execute_result"
    }
   ],
   "source": [
    "## custom heuristic\n",
    "\n",
    "def penalty_value(x):\n",
    "    if -21<=x<=21:\n",
    "        return 0\n",
    "    elif 22 <= abs(x) <= 66:\n",
    "        return 1\n",
    "    elif 67 <= abs(x) <= 112:\n",
    "        return 2\n",
    "    elif 113 <= abs(x) <= 161:\n",
    "        return 3\n",
    "    else:\n",
    "        return 4\n",
    "    \n",
    "penalty = np.sign(df_change['difference']) * np.array([penalty_value(x) for x in df_change['difference']])\n",
    "heuristic_val = K*(df_change['player_result_value'] - 0.5) + penalty\n",
    "\n",
    "df_change['custom_heuristic'] =  np.where(df_change['player_result_value'] == 1,np.maximum(0,heuristic_val) ,heuristic_val)\n",
    "df_change['custom_heuristic_error'] = df_change['player_rating_change'] - df_change['custom_heuristic']\n",
    "\n",
    "\n",
    "np.mean(np.square(df_change['custom_heuristic_error']))"
   ]
  },
  {
   "cell_type": "code",
   "execution_count": null,
   "metadata": {},
   "outputs": [],
   "source": []
  },
  {
   "cell_type": "code",
   "execution_count": null,
   "metadata": {},
   "outputs": [],
   "source": []
  },
  {
   "cell_type": "code",
   "execution_count": null,
   "metadata": {},
   "outputs": [],
   "source": []
  },
  {
   "cell_type": "code",
   "execution_count": 58,
   "metadata": {},
   "outputs": [
    {
     "data": {
      "image/png": "[encoded data removed]",
      "text/plain": [
       "<Figure size 640x480 with 1 Axes>"
      ]
     },
     "metadata": {},
     "output_type": "display_data"
    },
    {
     "name": "stdout",
     "output_type": "stream",
     "text": [
      "37 0.43435897435897436\n"
     ]
    }
   ],
   "source": [
    "plt.plot(lin_penalty)\n",
    "plt.show()\n",
    "print(best_C_linear,MSE_C_linear)"
   ]
  },
  {
   "cell_type": "code",
   "execution_count": 59,
   "metadata": {},
   "outputs": [
    {
     "data": {
      "image/png": "[encoded data removed]",
      "text/plain": [
       "<Figure size 640x480 with 1 Axes>"
      ]
     },
     "metadata": {},
     "output_type": "display_data"
    },
    {
     "name": "stdout",
     "output_type": "stream",
     "text": [
      "4.062062062062062 0.2958974358974359\n"
     ]
    }
   ],
   "source": [
    "plt.plot(sqrt_penalty)\n",
    "plt.show()\n",
    "print(best_C_sqrt,MSE_C_sqrt)"
   ]
  },
  {
   "cell_type": "code",
   "execution_count": 60,
   "metadata": {},
   "outputs": [
    {
     "data": {
      "image/png": "[encoded data removed]",
      "text/plain": [
       "<Figure size 640x480 with 1 Axes>"
      ]
     },
     "metadata": {},
     "output_type": "display_data"
    },
    {
     "name": "stdout",
     "output_type": "stream",
     "text": [
      "2.100000000000001 0.7194871794871794\n"
     ]
    }
   ],
   "source": [
    "plt.plot(log_penalty)\n",
    "plt.show()\n",
    "print(best_C_log,MSE_C_log)"
   ]
  },
  {
   "cell_type": "code",
   "execution_count": 61,
   "metadata": {},
   "outputs": [
    {
     "data": {
      "text/html": [
       "<div>\n",
       "<style scoped>\n",
       "    .dataframe tbody tr th:only-of-type {\n",
       "        vertical-align: middle;\n",
       "    }\n",
       "\n",
       "    .dataframe tbody tr th {\n",
       "        vertical-align: top;\n",
       "    }\n",
       "\n",
       "    .dataframe thead th {\n",
       "        text-align: right;\n",
       "    }\n",
       "</style>\n",
       "<table border=\"1\" class=\"dataframe\">\n",
       "  <thead>\n",
       "    <tr style=\"text-align: right;\">\n",
       "      <th></th>\n",
       "      <th>game_id</th>\n",
       "      <th>player_rating_prev</th>\n",
       "      <th>opponent_rating_prev</th>\n",
       "      <th>difference</th>\n",
       "      <th>expected_score</th>\n",
       "      <th>player_result_value</th>\n",
       "      <th>player_rating_change</th>\n",
       "      <th>player_rating</th>\n",
       "      <th>opponent_rating</th>\n",
       "      <th>sqrt_heuristic</th>\n",
       "      <th>sqrt_heuristic_error</th>\n",
       "      <th>custom_heuristic</th>\n",
       "      <th>custom_heuristic_error</th>\n",
       "    </tr>\n",
       "  </thead>\n",
       "  <tbody>\n",
       "    <tr>\n",
       "      <th>969</th>\n",
       "      <td>60036560961</td>\n",
       "      <td>1714.0</td>\n",
       "      <td>1606.0</td>\n",
       "      <td>-108.0</td>\n",
       "      <td>0.650605</td>\n",
       "      <td>1.0</td>\n",
       "      <td>13.0</td>\n",
       "      <td>1727</td>\n",
       "      <td>1593</td>\n",
       "      <td>6.0</td>\n",
       "      <td>7.0</td>\n",
       "      <td>6.0</td>\n",
       "      <td>7.0</td>\n",
       "    </tr>\n",
       "    <tr>\n",
       "      <th>1313</th>\n",
       "      <td>68249565061</td>\n",
       "      <td>1756.0</td>\n",
       "      <td>1855.0</td>\n",
       "      <td>99.0</td>\n",
       "      <td>0.361262</td>\n",
       "      <td>0.0</td>\n",
       "      <td>1.0</td>\n",
       "      <td>1757</td>\n",
       "      <td>1854</td>\n",
       "      <td>-6.0</td>\n",
       "      <td>7.0</td>\n",
       "      <td>-6.0</td>\n",
       "      <td>7.0</td>\n",
       "    </tr>\n",
       "    <tr>\n",
       "      <th>1388</th>\n",
       "      <td>79926656747</td>\n",
       "      <td>1870.0</td>\n",
       "      <td>2018.0</td>\n",
       "      <td>148.0</td>\n",
       "      <td>0.299023</td>\n",
       "      <td>1.0</td>\n",
       "      <td>13.0</td>\n",
       "      <td>1883</td>\n",
       "      <td>2005</td>\n",
       "      <td>10.0</td>\n",
       "      <td>3.0</td>\n",
       "      <td>11.0</td>\n",
       "      <td>2.0</td>\n",
       "    </tr>\n",
       "    <tr>\n",
       "      <th>1052</th>\n",
       "      <td>60649176223</td>\n",
       "      <td>1746.0</td>\n",
       "      <td>1981.0</td>\n",
       "      <td>235.0</td>\n",
       "      <td>0.205418</td>\n",
       "      <td>0.0</td>\n",
       "      <td>-3.0</td>\n",
       "      <td>1743</td>\n",
       "      <td>1984</td>\n",
       "      <td>-5.0</td>\n",
       "      <td>2.0</td>\n",
       "      <td>-4.0</td>\n",
       "      <td>1.0</td>\n",
       "    </tr>\n",
       "    <tr>\n",
       "      <th>214</th>\n",
       "      <td>32136645599</td>\n",
       "      <td>1707.0</td>\n",
       "      <td>2016.0</td>\n",
       "      <td>309.0</td>\n",
       "      <td>0.144458</td>\n",
       "      <td>0.0</td>\n",
       "      <td>-2.0</td>\n",
       "      <td>1705</td>\n",
       "      <td>2018</td>\n",
       "      <td>-4.0</td>\n",
       "      <td>2.0</td>\n",
       "      <td>-4.0</td>\n",
       "      <td>2.0</td>\n",
       "    </tr>\n",
       "    <tr>\n",
       "      <th>...</th>\n",
       "      <td>...</td>\n",
       "      <td>...</td>\n",
       "      <td>...</td>\n",
       "      <td>...</td>\n",
       "      <td>...</td>\n",
       "      <td>...</td>\n",
       "      <td>...</td>\n",
       "      <td>...</td>\n",
       "      <td>...</td>\n",
       "      <td>...</td>\n",
       "      <td>...</td>\n",
       "      <td>...</td>\n",
       "      <td>...</td>\n",
       "    </tr>\n",
       "    <tr>\n",
       "      <th>130</th>\n",
       "      <td>31522174207</td>\n",
       "      <td>1713.0</td>\n",
       "      <td>1405.0</td>\n",
       "      <td>-308.0</td>\n",
       "      <td>0.854829</td>\n",
       "      <td>1.0</td>\n",
       "      <td>2.0</td>\n",
       "      <td>1715</td>\n",
       "      <td>1403</td>\n",
       "      <td>4.0</td>\n",
       "      <td>-2.0</td>\n",
       "      <td>4.0</td>\n",
       "      <td>-2.0</td>\n",
       "    </tr>\n",
       "    <tr>\n",
       "      <th>92</th>\n",
       "      <td>30903539399</td>\n",
       "      <td>1705.0</td>\n",
       "      <td>1307.0</td>\n",
       "      <td>-398.0</td>\n",
       "      <td>0.908135</td>\n",
       "      <td>1.0</td>\n",
       "      <td>1.0</td>\n",
       "      <td>1706</td>\n",
       "      <td>1306</td>\n",
       "      <td>4.0</td>\n",
       "      <td>-3.0</td>\n",
       "      <td>4.0</td>\n",
       "      <td>-3.0</td>\n",
       "    </tr>\n",
       "    <tr>\n",
       "      <th>1392</th>\n",
       "      <td>82341704435</td>\n",
       "      <td>1892.0</td>\n",
       "      <td>1860.0</td>\n",
       "      <td>-32.0</td>\n",
       "      <td>0.545922</td>\n",
       "      <td>0.0</td>\n",
       "      <td>-12.0</td>\n",
       "      <td>1880</td>\n",
       "      <td>1872</td>\n",
       "      <td>-9.0</td>\n",
       "      <td>-3.0</td>\n",
       "      <td>-9.0</td>\n",
       "      <td>-3.0</td>\n",
       "    </tr>\n",
       "    <tr>\n",
       "      <th>1393</th>\n",
       "      <td>82342233173</td>\n",
       "      <td>1880.0</td>\n",
       "      <td>1827.0</td>\n",
       "      <td>-53.0</td>\n",
       "      <td>0.575687</td>\n",
       "      <td>0.0</td>\n",
       "      <td>-12.0</td>\n",
       "      <td>1868</td>\n",
       "      <td>1839</td>\n",
       "      <td>-9.0</td>\n",
       "      <td>-3.0</td>\n",
       "      <td>-9.0</td>\n",
       "      <td>-3.0</td>\n",
       "    </tr>\n",
       "    <tr>\n",
       "      <th>1433</th>\n",
       "      <td>88375742391</td>\n",
       "      <td>1885.0</td>\n",
       "      <td>1912.0</td>\n",
       "      <td>27.0</td>\n",
       "      <td>0.461222</td>\n",
       "      <td>0.0</td>\n",
       "      <td>-10.0</td>\n",
       "      <td>1875</td>\n",
       "      <td>1922</td>\n",
       "      <td>-7.0</td>\n",
       "      <td>-3.0</td>\n",
       "      <td>-7.0</td>\n",
       "      <td>-3.0</td>\n",
       "    </tr>\n",
       "  </tbody>\n",
       "</table>\n",
       "<p>1950 rows × 13 columns</p>\n",
       "</div>"
      ],
      "text/plain": [
       "          game_id  player_rating_prev  opponent_rating_prev  difference  \\\n",
       "969   60036560961              1714.0                1606.0      -108.0   \n",
       "1313  68249565061              1756.0                1855.0        99.0   \n",
       "1388  79926656747              1870.0                2018.0       148.0   \n",
       "1052  60649176223              1746.0                1981.0       235.0   \n",
       "214   32136645599              1707.0                2016.0       309.0   \n",
       "...           ...                 ...                   ...         ...   \n",
       "130   31522174207              1713.0                1405.0      -308.0   \n",
       "92    30903539399              1705.0                1307.0      -398.0   \n",
       "1392  82341704435              1892.0                1860.0       -32.0   \n",
       "1393  82342233173              1880.0                1827.0       -53.0   \n",
       "1433  88375742391              1885.0                1912.0        27.0   \n",
       "\n",
       "      expected_score  player_result_value  player_rating_change  \\\n",
       "969         0.650605                  1.0                  13.0   \n",
       "1313        0.361262                  0.0                   1.0   \n",
       "1388        0.299023                  1.0                  13.0   \n",
       "1052        0.205418                  0.0                  -3.0   \n",
       "214         0.144458                  0.0                  -2.0   \n",
       "...              ...                  ...                   ...   \n",
       "130         0.854829                  1.0                   2.0   \n",
       "92          0.908135                  1.0                   1.0   \n",
       "1392        0.545922                  0.0                 -12.0   \n",
       "1393        0.575687                  0.0                 -12.0   \n",
       "1433        0.461222                  0.0                 -10.0   \n",
       "\n",
       "      player_rating  opponent_rating  sqrt_heuristic  sqrt_heuristic_error  \\\n",
       "969            1727             1593             6.0                   7.0   \n",
       "1313           1757             1854            -6.0                   7.0   \n",
       "1388           1883             2005            10.0                   3.0   \n",
       "1052           1743             1984            -5.0                   2.0   \n",
       "214            1705             2018            -4.0                   2.0   \n",
       "...             ...              ...             ...                   ...   \n",
       "130            1715             1403             4.0                  -2.0   \n",
       "92             1706             1306             4.0                  -3.0   \n",
       "1392           1880             1872            -9.0                  -3.0   \n",
       "1393           1868             1839            -9.0                  -3.0   \n",
       "1433           1875             1922            -7.0                  -3.0   \n",
       "\n",
       "      custom_heuristic  custom_heuristic_error  \n",
       "969                6.0                     7.0  \n",
       "1313              -6.0                     7.0  \n",
       "1388              11.0                     2.0  \n",
       "1052              -4.0                     1.0  \n",
       "214               -4.0                     2.0  \n",
       "...                ...                     ...  \n",
       "130                4.0                    -2.0  \n",
       "92                 4.0                    -3.0  \n",
       "1392              -9.0                    -3.0  \n",
       "1393              -9.0                    -3.0  \n",
       "1433              -7.0                    -3.0  \n",
       "\n",
       "[1950 rows x 13 columns]"
      ]
     },
     "execution_count": 61,
     "metadata": {},
     "output_type": "execute_result"
    }
   ],
   "source": [
    "df_change.sort_values(by=['sqrt_heuristic_error'],ascending=False)"
   ]
  },
  {
   "cell_type": "code",
   "execution_count": 62,
   "metadata": {},
   "outputs": [
    {
     "data": {
      "image/png": "[encoded data removed]",
      "text/plain": [
       "<Figure size 640x480 with 1 Axes>"
      ]
     },
     "metadata": {},
     "output_type": "display_data"
    }
   ],
   "source": [
    "plt.hist(df_change['custom_heuristic_error'])\n",
    "plt.show()"
   ]
  },
  {
   "cell_type": "code",
   "execution_count": 63,
   "metadata": {},
   "outputs": [
    {
     "data": {
      "image/png": "[encoded data removed]",
      "text/plain": [
       "<Figure size 640x480 with 1 Axes>"
      ]
     },
     "metadata": {},
     "output_type": "display_data"
    },
    {
     "data": {
      "text/plain": [
       "-16.50051282051282"
      ]
     },
     "execution_count": 63,
     "metadata": {},
     "output_type": "execute_result"
    }
   ],
   "source": [
    "plt.hist(df_change['difference'],bins=np.arange(-300,301))\n",
    "plt.show()\n",
    "np.mean(df_change['difference'])"
   ]
  },
  {
   "cell_type": "code",
   "execution_count": 140,
   "metadata": {},
   "outputs": [
    {
     "name": "stderr",
     "output_type": "stream",
     "text": [
      "  0%|                                          | 0/100 [00:00<?, ?it/s]"
     ]
    },
    {
     "name": "stderr",
     "output_type": "stream",
     "text": [
      "  1%|▎                                 | 1/100 [00:01<02:33,  1.56s/it]"
     ]
    },
    {
     "name": "stdout",
     "output_type": "stream",
     "text": [
      "updates 2000, counter -14433.0, cost 0.9019508957862854, with y tensor([[-1.0503]], grad_fn=<AddmmBackward0>), t tensor([-2.])\n"
     ]
    },
    {
     "name": "stderr",
     "output_type": "stream",
     "text": [
      "  2%|▋                                 | 2/100 [00:02<02:24,  1.48s/it]"
     ]
    },
    {
     "name": "stdout",
     "output_type": "stream",
     "text": [
      "updates 4000, counter -27546.0, cost 0.006488218437880278, with y tensor([[0.9195]], grad_fn=<AddmmBackward0>), t tensor([1.])\n"
     ]
    },
    {
     "name": "stderr",
     "output_type": "stream",
     "text": [
      "  3%|█                                 | 3/100 [00:04<02:19,  1.44s/it]"
     ]
    },
    {
     "name": "stdout",
     "output_type": "stream",
     "text": [
      "updates 6000, counter -40836.0, cost 0.0003025784099008888, with y tensor([[1.0174]], grad_fn=<AddmmBackward0>), t tensor([1.])\n"
     ]
    },
    {
     "name": "stderr",
     "output_type": "stream",
     "text": [
      "  4%|█▎                                | 4/100 [00:05<02:17,  1.44s/it]"
     ]
    },
    {
     "name": "stdout",
     "output_type": "stream",
     "text": [
      "updates 8000, counter -54284.0, cost 0.8760460019111633, with y tensor([[0.9360]], grad_fn=<AddmmBackward0>), t tensor([0.])\n"
     ]
    },
    {
     "name": "stderr",
     "output_type": "stream",
     "text": [
      "  5%|█▋                                | 5/100 [00:07<02:15,  1.43s/it]"
     ]
    },
    {
     "name": "stdout",
     "output_type": "stream",
     "text": [
      "updates 10000, counter -67163.0, cost 1.0900373458862305, with y tensor([[1.0440]], grad_fn=<AddmmBackward0>), t tensor([0.])\n"
     ]
    },
    {
     "name": "stderr",
     "output_type": "stream",
     "text": [
      "  6%|██                                | 6/100 [00:08<02:12,  1.41s/it]"
     ]
    },
    {
     "name": "stdout",
     "output_type": "stream",
     "text": [
      "updates 12000, counter -75577.0, cost 0.00526813231408596, with y tensor([[0.0726]], grad_fn=<AddmmBackward0>), t tensor([0.])\n"
     ]
    },
    {
     "name": "stderr",
     "output_type": "stream",
     "text": [
      "  7%|██▍                               | 7/100 [00:10<02:15,  1.46s/it]"
     ]
    },
    {
     "name": "stdout",
     "output_type": "stream",
     "text": [
      "updates 14000, counter -77494.0, cost 0.2255888432264328, with y tensor([[0.4750]], grad_fn=<AddmmBackward0>), t tensor([0.])\n"
     ]
    },
    {
     "name": "stderr",
     "output_type": "stream",
     "text": [
      "  8%|██▋                               | 8/100 [00:11<02:15,  1.47s/it]"
     ]
    },
    {
     "name": "stdout",
     "output_type": "stream",
     "text": [
      "updates 16000, counter -78978.0, cost 0.10322260111570358, with y tensor([[0.3213]], grad_fn=<AddmmBackward0>), t tensor([0.])\n"
     ]
    },
    {
     "name": "stderr",
     "output_type": "stream",
     "text": [
      "  9%|███                               | 9/100 [00:13<02:11,  1.45s/it]"
     ]
    },
    {
     "name": "stdout",
     "output_type": "stream",
     "text": [
      "updates 18000, counter -80478.0, cost 0.393656849861145, with y tensor([[-0.6274]], grad_fn=<AddmmBackward0>), t tensor([0.])\n"
     ]
    },
    {
     "name": "stderr",
     "output_type": "stream",
     "text": [
      " 10%|███▎                             | 10/100 [00:14<02:09,  1.44s/it]"
     ]
    },
    {
     "name": "stdout",
     "output_type": "stream",
     "text": [
      "updates 20000, counter -80833.0, cost 0.13314524292945862, with y tensor([[-0.3649]], grad_fn=<AddmmBackward0>), t tensor([0.])\n"
     ]
    },
    {
     "name": "stderr",
     "output_type": "stream",
     "text": [
      " 11%|███▋                             | 11/100 [00:15<02:07,  1.44s/it]"
     ]
    },
    {
     "name": "stdout",
     "output_type": "stream",
     "text": [
      "updates 22000, counter -81582.0, cost 0.05203301087021828, with y tensor([[-2.2281]], grad_fn=<AddmmBackward0>), t tensor([-2.])\n"
     ]
    },
    {
     "name": "stderr",
     "output_type": "stream",
     "text": [
      " 12%|███▉                             | 12/100 [00:17<02:04,  1.42s/it]"
     ]
    },
    {
     "name": "stdout",
     "output_type": "stream",
     "text": [
      "updates 24000, counter -82702.0, cost 0.07453827559947968, with y tensor([[0.2730]], grad_fn=<AddmmBackward0>), t tensor([0.])\n"
     ]
    },
    {
     "name": "stderr",
     "output_type": "stream",
     "text": [
      " 13%|████▎                            | 13/100 [00:18<02:03,  1.42s/it]"
     ]
    },
    {
     "name": "stdout",
     "output_type": "stream",
     "text": [
      "updates 26000, counter -83981.0, cost 0.02248363383114338, with y tensor([[-0.1499]], grad_fn=<AddmmBackward0>), t tensor([0.])\n"
     ]
    },
    {
     "name": "stderr",
     "output_type": "stream",
     "text": [
      " 14%|████▌                            | 14/100 [00:20<02:01,  1.41s/it]"
     ]
    },
    {
     "name": "stdout",
     "output_type": "stream",
     "text": [
      "updates 28000, counter -84534.0, cost 0.22369882464408875, with y tensor([[-1.4730]], grad_fn=<AddmmBackward0>), t tensor([-1.])\n"
     ]
    },
    {
     "name": "stderr",
     "output_type": "stream",
     "text": [
      " 15%|████▉                            | 15/100 [00:21<01:59,  1.40s/it]"
     ]
    },
    {
     "name": "stdout",
     "output_type": "stream",
     "text": [
      "updates 30000, counter -85634.0, cost 0.2619505226612091, with y tensor([[-1.4882]], grad_fn=<AddmmBackward0>), t tensor([-2.])\n"
     ]
    },
    {
     "name": "stderr",
     "output_type": "stream",
     "text": [
      " 16%|█████▎                           | 16/100 [00:22<01:57,  1.40s/it]"
     ]
    },
    {
     "name": "stdout",
     "output_type": "stream",
     "text": [
      "updates 32000, counter -86558.0, cost 0.03713448345661163, with y tensor([[0.1927]], grad_fn=<AddmmBackward0>), t tensor([0.])\n"
     ]
    },
    {
     "name": "stderr",
     "output_type": "stream",
     "text": [
      " 17%|█████▌                           | 17/100 [00:24<01:55,  1.39s/it]"
     ]
    },
    {
     "name": "stdout",
     "output_type": "stream",
     "text": [
      "updates 34000, counter -88504.0, cost 0.10532061755657196, with y tensor([[-0.3245]], grad_fn=<AddmmBackward0>), t tensor([0.])\n"
     ]
    },
    {
     "name": "stderr",
     "output_type": "stream",
     "text": [
      " 18%|█████▉                           | 18/100 [00:25<01:54,  1.40s/it]"
     ]
    },
    {
     "name": "stdout",
     "output_type": "stream",
     "text": [
      "updates 36000, counter -88999.0, cost 0.0058658914640545845, with y tensor([[-1.0766]], grad_fn=<AddmmBackward0>), t tensor([-1.])\n"
     ]
    },
    {
     "name": "stderr",
     "output_type": "stream",
     "text": [
      " 19%|██████▎                          | 19/100 [00:27<01:54,  1.41s/it]"
     ]
    },
    {
     "name": "stdout",
     "output_type": "stream",
     "text": [
      "updates 38000, counter -89517.0, cost 0.10547545552253723, with y tensor([[1.3248]], grad_fn=<AddmmBackward0>), t tensor([1.])\n"
     ]
    },
    {
     "name": "stderr",
     "output_type": "stream",
     "text": [
      " 20%|██████▌                          | 20/100 [00:28<01:52,  1.41s/it]"
     ]
    },
    {
     "name": "stdout",
     "output_type": "stream",
     "text": [
      "updates 40000, counter -89787.0, cost 0.08559545874595642, with y tensor([[-0.7074]], grad_fn=<AddmmBackward0>), t tensor([-1.])\n"
     ]
    },
    {
     "name": "stderr",
     "output_type": "stream",
     "text": [
      " 21%|██████▉                          | 21/100 [00:29<01:52,  1.42s/it]"
     ]
    },
    {
     "name": "stdout",
     "output_type": "stream",
     "text": [
      "updates 42000, counter -91195.0, cost 0.2070058435201645, with y tensor([[0.5450]], grad_fn=<AddmmBackward0>), t tensor([1.])\n"
     ]
    },
    {
     "name": "stderr",
     "output_type": "stream",
     "text": [
      " 22%|███████▎                         | 22/100 [00:31<01:50,  1.41s/it]"
     ]
    },
    {
     "name": "stdout",
     "output_type": "stream",
     "text": [
      "updates 44000, counter -92540.0, cost 6.688351277261972e-05, with y tensor([[-1.0082]], grad_fn=<AddmmBackward0>), t tensor([-1.])\n"
     ]
    },
    {
     "name": "stderr",
     "output_type": "stream",
     "text": [
      " 23%|███████▌                         | 23/100 [00:32<01:48,  1.41s/it]"
     ]
    },
    {
     "name": "stdout",
     "output_type": "stream",
     "text": [
      "updates 46000, counter -93489.0, cost 0.03370482847094536, with y tensor([[-1.8164]], grad_fn=<AddmmBackward0>), t tensor([-2.])\n"
     ]
    },
    {
     "name": "stderr",
     "output_type": "stream",
     "text": [
      " 24%|███████▉                         | 24/100 [00:34<01:47,  1.42s/it]"
     ]
    },
    {
     "name": "stdout",
     "output_type": "stream",
     "text": [
      "updates 48000, counter -93730.0, cost 0.012671640142798424, with y tensor([[-1.8874]], grad_fn=<AddmmBackward0>), t tensor([-2.])\n"
     ]
    },
    {
     "name": "stderr",
     "output_type": "stream",
     "text": [
      " 25%|████████▎                        | 25/100 [00:35<01:46,  1.42s/it]"
     ]
    },
    {
     "name": "stdout",
     "output_type": "stream",
     "text": [
      "updates 50000, counter -94916.0, cost 0.03270692750811577, with y tensor([[-0.8191]], grad_fn=<AddmmBackward0>), t tensor([-1.])\n"
     ]
    },
    {
     "name": "stderr",
     "output_type": "stream",
     "text": [
      " 26%|████████▌                        | 26/100 [00:37<01:44,  1.41s/it]"
     ]
    },
    {
     "name": "stdout",
     "output_type": "stream",
     "text": [
      "updates 52000, counter -94969.0, cost 0.1529313623905182, with y tensor([[-1.6089]], grad_fn=<AddmmBackward0>), t tensor([-2.])\n"
     ]
    },
    {
     "name": "stderr",
     "output_type": "stream",
     "text": [
      " 27%|████████▉                        | 27/100 [00:38<01:42,  1.40s/it]"
     ]
    },
    {
     "name": "stdout",
     "output_type": "stream",
     "text": [
      "updates 54000, counter -95508.0, cost 0.00976256001740694, with y tensor([[0.9012]], grad_fn=<AddmmBackward0>), t tensor([1.])\n"
     ]
    },
    {
     "name": "stderr",
     "output_type": "stream",
     "text": [
      " 28%|█████████▏                       | 28/100 [00:39<01:41,  1.40s/it]"
     ]
    },
    {
     "name": "stdout",
     "output_type": "stream",
     "text": [
      "updates 56000, counter -96933.0, cost 0.009050731547176838, with y tensor([[0.9049]], grad_fn=<AddmmBackward0>), t tensor([1.])\n"
     ]
    },
    {
     "name": "stderr",
     "output_type": "stream",
     "text": [
      " 29%|█████████▌                       | 29/100 [00:41<01:39,  1.41s/it]"
     ]
    },
    {
     "name": "stdout",
     "output_type": "stream",
     "text": [
      "updates 58000, counter -97024.0, cost 0.08544039726257324, with y tensor([[-0.2923]], grad_fn=<AddmmBackward0>), t tensor([0.])\n"
     ]
    },
    {
     "name": "stderr",
     "output_type": "stream",
     "text": [
      " 30%|█████████▉                       | 30/100 [00:42<01:38,  1.41s/it]"
     ]
    },
    {
     "name": "stdout",
     "output_type": "stream",
     "text": [
      "updates 60000, counter -97633.0, cost 0.0368020124733448, with y tensor([[0.8082]], grad_fn=<AddmmBackward0>), t tensor([1.])\n"
     ]
    },
    {
     "name": "stderr",
     "output_type": "stream",
     "text": [
      " 31%|██████████▏                      | 31/100 [00:44<01:37,  1.41s/it]"
     ]
    },
    {
     "name": "stdout",
     "output_type": "stream",
     "text": [
      "updates 62000, counter -98891.0, cost 0.03194595128297806, with y tensor([[1.1787]], grad_fn=<AddmmBackward0>), t tensor([1.])\n"
     ]
    },
    {
     "name": "stderr",
     "output_type": "stream",
     "text": [
      " 32%|██████████▌                      | 32/100 [00:45<01:36,  1.41s/it]"
     ]
    },
    {
     "name": "stdout",
     "output_type": "stream",
     "text": [
      "updates 64000, counter -99437.0, cost 0.0298031996935606, with y tensor([[-2.1726]], grad_fn=<AddmmBackward0>), t tensor([-2.])\n"
     ]
    },
    {
     "name": "stderr",
     "output_type": "stream",
     "text": [
      " 33%|██████████▉                      | 33/100 [00:46<01:35,  1.43s/it]"
     ]
    },
    {
     "name": "stdout",
     "output_type": "stream",
     "text": [
      "updates 66000, counter -99513.0, cost 0.30035141110420227, with y tensor([[-1.5480]], grad_fn=<AddmmBackward0>), t tensor([-1.])\n"
     ]
    },
    {
     "name": "stderr",
     "output_type": "stream",
     "text": [
      " 35%|███████████▌                     | 35/100 [00:49<01:32,  1.42s/it]"
     ]
    },
    {
     "name": "stdout",
     "output_type": "stream",
     "text": [
      "updates 68000, counter -100648.0, cost 1.2217069524922408e-06, with y tensor([[0.0011]], grad_fn=<AddmmBackward0>), t tensor([0.])\n"
     ]
    },
    {
     "name": "stderr",
     "output_type": "stream",
     "text": [
      " 36%|███████████▉                     | 36/100 [00:51<01:30,  1.41s/it]"
     ]
    },
    {
     "name": "stdout",
     "output_type": "stream",
     "text": [
      "updates 70000, counter -101328.0, cost 0.07343823462724686, with y tensor([[2.7290]], grad_fn=<AddmmBackward0>), t tensor([3.])\n"
     ]
    },
    {
     "name": "stderr",
     "output_type": "stream",
     "text": [
      " 37%|████████████▏                    | 37/100 [00:52<01:29,  1.42s/it]"
     ]
    },
    {
     "name": "stdout",
     "output_type": "stream",
     "text": [
      "updates 72000, counter -102166.0, cost 0.0044823894277215, with y tensor([[-0.0670]], grad_fn=<AddmmBackward0>), t tensor([0.])\n"
     ]
    },
    {
     "name": "stderr",
     "output_type": "stream",
     "text": [
      " 38%|████████████▌                    | 38/100 [00:53<01:27,  1.41s/it]"
     ]
    },
    {
     "name": "stdout",
     "output_type": "stream",
     "text": [
      "updates 74000, counter -102509.0, cost 0.11623749881982803, with y tensor([[-0.3409]], grad_fn=<AddmmBackward0>), t tensor([0.])\n"
     ]
    },
    {
     "name": "stderr",
     "output_type": "stream",
     "text": [
      " 39%|████████████▊                    | 39/100 [00:55<01:25,  1.40s/it]"
     ]
    },
    {
     "name": "stdout",
     "output_type": "stream",
     "text": [
      "updates 76000, counter -103204.0, cost 0.06074662506580353, with y tensor([[-1.2465]], grad_fn=<AddmmBackward0>), t tensor([-1.])\n"
     ]
    },
    {
     "name": "stderr",
     "output_type": "stream",
     "text": [
      " 40%|█████████████▏                   | 40/100 [00:56<01:24,  1.40s/it]"
     ]
    },
    {
     "name": "stdout",
     "output_type": "stream",
     "text": [
      "updates 78000, counter -104017.0, cost 0.19222654402256012, with y tensor([[0.4384]], grad_fn=<AddmmBackward0>), t tensor([0.])\n"
     ]
    },
    {
     "name": "stderr",
     "output_type": "stream",
     "text": [
      " 41%|█████████████▌                   | 41/100 [00:58<01:22,  1.40s/it]"
     ]
    },
    {
     "name": "stdout",
     "output_type": "stream",
     "text": [
      "updates 80000, counter -104681.0, cost 0.013319103978574276, with y tensor([[-1.1154]], grad_fn=<AddmmBackward0>), t tensor([-1.])\n"
     ]
    },
    {
     "name": "stderr",
     "output_type": "stream",
     "text": [
      " 42%|█████████████▊                   | 42/100 [00:59<01:20,  1.40s/it]"
     ]
    },
    {
     "name": "stdout",
     "output_type": "stream",
     "text": [
      "updates 82000, counter -104983.0, cost 0.031803227961063385, with y tensor([[0.8217]], grad_fn=<AddmmBackward0>), t tensor([1.])\n"
     ]
    },
    {
     "name": "stderr",
     "output_type": "stream",
     "text": [
      " 43%|██████████████▏                  | 43/100 [01:00<01:19,  1.39s/it]"
     ]
    },
    {
     "name": "stdout",
     "output_type": "stream",
     "text": [
      "updates 84000, counter -105418.0, cost 0.07518123835325241, with y tensor([[-1.2742]], grad_fn=<AddmmBackward0>), t tensor([-1.])\n"
     ]
    },
    {
     "name": "stderr",
     "output_type": "stream",
     "text": [
      " 44%|██████████████▌                  | 44/100 [01:02<01:18,  1.40s/it]"
     ]
    },
    {
     "name": "stdout",
     "output_type": "stream",
     "text": [
      "updates 86000, counter -105902.0, cost 0.18956725299358368, with y tensor([[-1.4354]], grad_fn=<AddmmBackward0>), t tensor([-1.])\n"
     ]
    },
    {
     "name": "stderr",
     "output_type": "stream",
     "text": [
      " 45%|██████████████▊                  | 45/100 [01:03<01:16,  1.39s/it]"
     ]
    },
    {
     "name": "stdout",
     "output_type": "stream",
     "text": [
      "updates 88000, counter -106509.0, cost 0.07513738423585892, with y tensor([[-0.7259]], grad_fn=<AddmmBackward0>), t tensor([-1.])\n"
     ]
    },
    {
     "name": "stderr",
     "output_type": "stream",
     "text": [
      " 46%|███████████████▏                 | 46/100 [01:05<01:15,  1.39s/it]"
     ]
    },
    {
     "name": "stdout",
     "output_type": "stream",
     "text": [
      "updates 90000, counter -107086.0, cost 0.10298698395490646, with y tensor([[0.3209]], grad_fn=<AddmmBackward0>), t tensor([0.])\n"
     ]
    },
    {
     "name": "stderr",
     "output_type": "stream",
     "text": [
      " 47%|███████████████▌                 | 47/100 [01:06<01:13,  1.39s/it]"
     ]
    },
    {
     "name": "stdout",
     "output_type": "stream",
     "text": [
      "updates 92000, counter -107652.0, cost 0.07534047216176987, with y tensor([[-0.7255]], grad_fn=<AddmmBackward0>), t tensor([-1.])\n"
     ]
    },
    {
     "name": "stderr",
     "output_type": "stream",
     "text": [
      " 48%|███████████████▊                 | 48/100 [01:07<01:12,  1.39s/it]"
     ]
    },
    {
     "name": "stdout",
     "output_type": "stream",
     "text": [
      "updates 94000, counter -108243.0, cost 0.0026080571115016937, with y tensor([[-0.9489]], grad_fn=<AddmmBackward0>), t tensor([-1.])\n"
     ]
    },
    {
     "name": "stderr",
     "output_type": "stream",
     "text": [
      " 49%|████████████████▏                | 49/100 [01:09<01:10,  1.39s/it]"
     ]
    },
    {
     "name": "stdout",
     "output_type": "stream",
     "text": [
      "updates 96000, counter -108581.0, cost 0.12931598722934723, with y tensor([[0.6404]], grad_fn=<AddmmBackward0>), t tensor([1.])\n"
     ]
    },
    {
     "name": "stderr",
     "output_type": "stream",
     "text": [
      " 50%|████████████████▌                | 50/100 [01:10<01:09,  1.39s/it]"
     ]
    },
    {
     "name": "stdout",
     "output_type": "stream",
     "text": [
      "updates 98000, counter -109235.0, cost 3.7086939811706543, with y tensor([[0.0742]], grad_fn=<AddmmBackward0>), t tensor([2.])\n"
     ]
    },
    {
     "name": "stderr",
     "output_type": "stream",
     "text": [
      " 51%|████████████████▊                | 51/100 [01:12<01:08,  1.39s/it]"
     ]
    },
    {
     "name": "stdout",
     "output_type": "stream",
     "text": [
      "updates 100000, counter -110185.0, cost 0.0007358012371696532, with y tensor([[0.9729]], grad_fn=<AddmmBackward0>), t tensor([1.])\n"
     ]
    },
    {
     "name": "stderr",
     "output_type": "stream",
     "text": [
      " 52%|█████████████████▏               | 52/100 [01:13<01:07,  1.40s/it]"
     ]
    },
    {
     "name": "stdout",
     "output_type": "stream",
     "text": [
      "updates 102000, counter -110270.0, cost 0.15390032529830933, with y tensor([[-1.3923]], grad_fn=<AddmmBackward0>), t tensor([-1.])\n"
     ]
    },
    {
     "name": "stderr",
     "output_type": "stream",
     "text": [
      " 53%|█████████████████▍               | 53/100 [01:14<01:05,  1.40s/it]"
     ]
    },
    {
     "name": "stdout",
     "output_type": "stream",
     "text": [
      "updates 104000, counter -111347.0, cost 0.006000998895615339, with y tensor([[-0.0775]], grad_fn=<AddmmBackward0>), t tensor([0.])\n"
     ]
    },
    {
     "name": "stderr",
     "output_type": "stream",
     "text": [
      " 54%|█████████████████▊               | 54/100 [01:16<01:04,  1.40s/it]"
     ]
    },
    {
     "name": "stdout",
     "output_type": "stream",
     "text": [
      "updates 106000, counter -111612.0, cost 0.012166104279458523, with y tensor([[-1.1103]], grad_fn=<AddmmBackward0>), t tensor([-1.])\n"
     ]
    },
    {
     "name": "stderr",
     "output_type": "stream",
     "text": [
      " 55%|██████████████████▏              | 55/100 [01:17<01:03,  1.40s/it]"
     ]
    },
    {
     "name": "stdout",
     "output_type": "stream",
     "text": [
      "updates 108000, counter -111776.0, cost 0.043808478862047195, with y tensor([[0.7907]], grad_fn=<AddmmBackward0>), t tensor([1.])\n"
     ]
    },
    {
     "name": "stderr",
     "output_type": "stream",
     "text": [
      " 56%|██████████████████▍              | 56/100 [01:19<01:01,  1.40s/it]"
     ]
    },
    {
     "name": "stdout",
     "output_type": "stream",
     "text": [
      "updates 110000, counter -111888.0, cost 0.002141388365998864, with y tensor([[0.9537]], grad_fn=<AddmmBackward0>), t tensor([1.])\n"
     ]
    },
    {
     "name": "stderr",
     "output_type": "stream",
     "text": [
      " 57%|██████████████████▊              | 57/100 [01:20<01:00,  1.40s/it]"
     ]
    },
    {
     "name": "stdout",
     "output_type": "stream",
     "text": [
      "updates 112000, counter -113117.0, cost 0.051116883754730225, with y tensor([[-1.2261]], grad_fn=<AddmmBackward0>), t tensor([-1.])\n"
     ]
    },
    {
     "name": "stderr",
     "output_type": "stream",
     "text": [
      " 58%|███████████████████▏             | 58/100 [01:21<00:58,  1.40s/it]"
     ]
    },
    {
     "name": "stdout",
     "output_type": "stream",
     "text": [
      "updates 114000, counter -113274.0, cost 7.200641448434908e-06, with y tensor([[1.0027]], grad_fn=<AddmmBackward0>), t tensor([1.])\n"
     ]
    },
    {
     "name": "stderr",
     "output_type": "stream",
     "text": [
      " 59%|███████████████████▍             | 59/100 [01:23<00:57,  1.40s/it]"
     ]
    },
    {
     "name": "stdout",
     "output_type": "stream",
     "text": [
      "updates 116000, counter -113864.0, cost 0.0523470938205719, with y tensor([[0.2288]], grad_fn=<AddmmBackward0>), t tensor([0.])\n"
     ]
    },
    {
     "name": "stderr",
     "output_type": "stream",
     "text": [
      " 60%|███████████████████▊             | 60/100 [01:24<00:56,  1.42s/it]"
     ]
    },
    {
     "name": "stdout",
     "output_type": "stream",
     "text": [
      "updates 118000, counter -114169.0, cost 0.19215863943099976, with y tensor([[-2.5616]], grad_fn=<AddmmBackward0>), t tensor([-3.])\n"
     ]
    },
    {
     "name": "stderr",
     "output_type": "stream",
     "text": [
      " 61%|████████████████████▏            | 61/100 [01:26<00:54,  1.41s/it]"
     ]
    },
    {
     "name": "stdout",
     "output_type": "stream",
     "text": [
      "updates 120000, counter -114260.0, cost 0.005874883383512497, with y tensor([[0.0766]], grad_fn=<AddmmBackward0>), t tensor([0.])\n"
     ]
    },
    {
     "name": "stderr",
     "output_type": "stream",
     "text": [
      " 62%|████████████████████▍            | 62/100 [01:27<00:53,  1.41s/it]"
     ]
    },
    {
     "name": "stdout",
     "output_type": "stream",
     "text": [
      "updates 122000, counter -114968.0, cost 0.2311747521162033, with y tensor([[-1.4808]], grad_fn=<AddmmBackward0>), t tensor([-1.])\n"
     ]
    },
    {
     "name": "stderr",
     "output_type": "stream",
     "text": [
      " 63%|████████████████████▊            | 63/100 [01:28<00:51,  1.40s/it]"
     ]
    },
    {
     "name": "stdout",
     "output_type": "stream",
     "text": [
      "updates 124000, counter -115558.0, cost 0.006401051301509142, with y tensor([[0.0800]], grad_fn=<AddmmBackward0>), t tensor([0.])\n"
     ]
    },
    {
     "name": "stderr",
     "output_type": "stream",
     "text": [
      " 64%|█████████████████████            | 64/100 [01:30<00:50,  1.41s/it]"
     ]
    },
    {
     "name": "stdout",
     "output_type": "stream",
     "text": [
      "updates 126000, counter -115537.0, cost 0.012392955832183361, with y tensor([[0.1113]], grad_fn=<AddmmBackward0>), t tensor([0.])\n"
     ]
    },
    {
     "name": "stderr",
     "output_type": "stream",
     "text": [
      " 65%|█████████████████████▍           | 65/100 [01:31<00:49,  1.41s/it]"
     ]
    },
    {
     "name": "stdout",
     "output_type": "stream",
     "text": [
      "updates 128000, counter -115803.0, cost 0.08945969492197037, with y tensor([[-1.2991]], grad_fn=<AddmmBackward0>), t tensor([-1.])\n"
     ]
    },
    {
     "name": "stderr",
     "output_type": "stream",
     "text": [
      " 66%|█████████████████████▊           | 66/100 [01:33<00:47,  1.41s/it]"
     ]
    },
    {
     "name": "stdout",
     "output_type": "stream",
     "text": [
      "updates 130000, counter -116485.0, cost 0.017771132290363312, with y tensor([[1.8667]], grad_fn=<AddmmBackward0>), t tensor([2.])\n"
     ]
    },
    {
     "name": "stderr",
     "output_type": "stream",
     "text": [
      " 67%|██████████████████████           | 67/100 [01:34<00:46,  1.41s/it]"
     ]
    },
    {
     "name": "stdout",
     "output_type": "stream",
     "text": [
      "updates 132000, counter -116632.0, cost 0.15444554388523102, with y tensor([[1.3930]], grad_fn=<AddmmBackward0>), t tensor([1.])\n"
     ]
    },
    {
     "name": "stderr",
     "output_type": "stream",
     "text": [
      " 68%|██████████████████████▍          | 68/100 [01:35<00:44,  1.40s/it]"
     ]
    },
    {
     "name": "stdout",
     "output_type": "stream",
     "text": [
      "updates 134000, counter -117375.0, cost 0.20368145406246185, with y tensor([[-0.4513]], grad_fn=<AddmmBackward0>), t tensor([0.])\n"
     ]
    },
    {
     "name": "stderr",
     "output_type": "stream",
     "text": [
      " 69%|██████████████████████▊          | 69/100 [01:37<00:43,  1.40s/it]"
     ]
    },
    {
     "name": "stdout",
     "output_type": "stream",
     "text": [
      "updates 136000, counter -117655.0, cost 0.042393822222948074, with y tensor([[0.2059]], grad_fn=<AddmmBackward0>), t tensor([0.])\n"
     ]
    },
    {
     "name": "stderr",
     "output_type": "stream",
     "text": [
      " 70%|███████████████████████          | 70/100 [01:38<00:41,  1.40s/it]"
     ]
    },
    {
     "name": "stdout",
     "output_type": "stream",
     "text": [
      "updates 138000, counter -117942.0, cost 0.010840928182005882, with y tensor([[1.1041]], grad_fn=<AddmmBackward0>), t tensor([1.])\n"
     ]
    },
    {
     "name": "stderr",
     "output_type": "stream",
     "text": [
      " 71%|███████████████████████▍         | 71/100 [01:40<00:40,  1.40s/it]"
     ]
    },
    {
     "name": "stdout",
     "output_type": "stream",
     "text": [
      "updates 140000, counter -118079.0, cost 0.1145688071846962, with y tensor([[-0.3385]], grad_fn=<AddmmBackward0>), t tensor([0.])\n"
     ]
    },
    {
     "name": "stderr",
     "output_type": "stream",
     "text": [
      " 72%|███████████████████████▊         | 72/100 [01:41<00:39,  1.40s/it]"
     ]
    },
    {
     "name": "stdout",
     "output_type": "stream",
     "text": [
      "updates 142000, counter -118797.0, cost 0.2780537009239197, with y tensor([[1.5273]], grad_fn=<AddmmBackward0>), t tensor([1.])\n"
     ]
    },
    {
     "name": "stderr",
     "output_type": "stream",
     "text": [
      " 73%|████████████████████████         | 73/100 [01:42<00:37,  1.40s/it]"
     ]
    },
    {
     "name": "stdout",
     "output_type": "stream",
     "text": [
      "updates 144000, counter -118972.0, cost 0.25299176573753357, with y tensor([[-1.5030]], grad_fn=<AddmmBackward0>), t tensor([-1.])\n"
     ]
    },
    {
     "name": "stderr",
     "output_type": "stream",
     "text": [
      " 75%|████████████████████████▊        | 75/100 [01:45<00:34,  1.40s/it]"
     ]
    },
    {
     "name": "stdout",
     "output_type": "stream",
     "text": [
      "updates 146000, counter -119211.0, cost 0.3235107660293579, with y tensor([[-1.5688]], grad_fn=<AddmmBackward0>), t tensor([-1.])\n"
     ]
    },
    {
     "name": "stderr",
     "output_type": "stream",
     "text": [
      " 76%|█████████████████████████        | 76/100 [01:47<00:33,  1.39s/it]"
     ]
    },
    {
     "name": "stdout",
     "output_type": "stream",
     "text": [
      "updates 148000, counter -119761.0, cost 0.06572316586971283, with y tensor([[-0.7436]], grad_fn=<AddmmBackward0>), t tensor([-1.])\n"
     ]
    },
    {
     "name": "stderr",
     "output_type": "stream",
     "text": [
      " 77%|█████████████████████████▍       | 77/100 [01:48<00:32,  1.39s/it]"
     ]
    },
    {
     "name": "stdout",
     "output_type": "stream",
     "text": [
      "updates 150000, counter -120305.0, cost 0.039252620190382004, with y tensor([[0.8019]], grad_fn=<AddmmBackward0>), t tensor([1.])\n"
     ]
    },
    {
     "name": "stderr",
     "output_type": "stream",
     "text": [
      " 78%|█████████████████████████▋       | 78/100 [01:49<00:30,  1.40s/it]"
     ]
    },
    {
     "name": "stdout",
     "output_type": "stream",
     "text": [
      "updates 152000, counter -120601.0, cost 0.03043052926659584, with y tensor([[0.8256]], grad_fn=<AddmmBackward0>), t tensor([1.])\n"
     ]
    },
    {
     "name": "stderr",
     "output_type": "stream",
     "text": [
      " 79%|██████████████████████████       | 79/100 [01:51<00:29,  1.40s/it]"
     ]
    },
    {
     "name": "stdout",
     "output_type": "stream",
     "text": [
      "updates 154000, counter -120792.0, cost 0.37766480445861816, with y tensor([[0.3855]], grad_fn=<AddmmBackward0>), t tensor([1.])\n"
     ]
    },
    {
     "name": "stderr",
     "output_type": "stream",
     "text": [
      " 80%|██████████████████████████▍      | 80/100 [01:52<00:27,  1.40s/it]"
     ]
    },
    {
     "name": "stdout",
     "output_type": "stream",
     "text": [
      "updates 156000, counter -121181.0, cost 3.9020090103149414, with y tensor([[-0.0246]], grad_fn=<AddmmBackward0>), t tensor([-2.])\n"
     ]
    },
    {
     "name": "stderr",
     "output_type": "stream",
     "text": [
      " 81%|██████████████████████████▋      | 81/100 [01:54<00:26,  1.40s/it]"
     ]
    },
    {
     "name": "stdout",
     "output_type": "stream",
     "text": [
      "updates 158000, counter -121305.0, cost 0.03519193083047867, with y tensor([[-2.1876]], grad_fn=<AddmmBackward0>), t tensor([-2.])\n"
     ]
    },
    {
     "name": "stderr",
     "output_type": "stream",
     "text": [
      " 82%|███████████████████████████      | 82/100 [01:55<00:25,  1.40s/it]"
     ]
    },
    {
     "name": "stdout",
     "output_type": "stream",
     "text": [
      "updates 160000, counter -121886.0, cost 0.06104857102036476, with y tensor([[-2.2471]], grad_fn=<AddmmBackward0>), t tensor([-2.])\n"
     ]
    },
    {
     "name": "stderr",
     "output_type": "stream",
     "text": [
      " 83%|███████████████████████████▍     | 83/100 [01:56<00:23,  1.40s/it]"
     ]
    },
    {
     "name": "stdout",
     "output_type": "stream",
     "text": [
      "updates 162000, counter -122296.0, cost 0.13727402687072754, with y tensor([[-1.6295]], grad_fn=<AddmmBackward0>), t tensor([-2.])\n"
     ]
    },
    {
     "name": "stderr",
     "output_type": "stream",
     "text": [
      " 84%|███████████████████████████▋     | 84/100 [01:58<00:22,  1.40s/it]"
     ]
    },
    {
     "name": "stdout",
     "output_type": "stream",
     "text": [
      "updates 164000, counter -122342.0, cost 0.10017485916614532, with y tensor([[-1.6835]], grad_fn=<AddmmBackward0>), t tensor([-2.])\n"
     ]
    },
    {
     "name": "stderr",
     "output_type": "stream",
     "text": [
      " 85%|████████████████████████████     | 85/100 [01:59<00:20,  1.40s/it]"
     ]
    },
    {
     "name": "stdout",
     "output_type": "stream",
     "text": [
      "updates 166000, counter -122662.0, cost 0.0403134822845459, with y tensor([[-1.7992]], grad_fn=<AddmmBackward0>), t tensor([-2.])\n"
     ]
    },
    {
     "name": "stderr",
     "output_type": "stream",
     "text": [
      " 86%|████████████████████████████▍    | 86/100 [02:01<00:19,  1.40s/it]"
     ]
    },
    {
     "name": "stdout",
     "output_type": "stream",
     "text": [
      "updates 168000, counter -122986.0, cost 0.1042952612042427, with y tensor([[0.3229]], grad_fn=<AddmmBackward0>), t tensor([0.])\n"
     ]
    },
    {
     "name": "stderr",
     "output_type": "stream",
     "text": [
      " 87%|████████████████████████████▋    | 87/100 [02:02<00:18,  1.40s/it]"
     ]
    },
    {
     "name": "stdout",
     "output_type": "stream",
     "text": [
      "updates 170000, counter -123432.0, cost 0.045789819210767746, with y tensor([[-1.2140]], grad_fn=<AddmmBackward0>), t tensor([-1.])\n"
     ]
    },
    {
     "name": "stderr",
     "output_type": "stream",
     "text": [
      " 88%|█████████████████████████████    | 88/100 [02:03<00:16,  1.39s/it]"
     ]
    },
    {
     "name": "stdout",
     "output_type": "stream",
     "text": [
      "updates 172000, counter -123652.0, cost 0.0006383974687196314, with y tensor([[-1.0253]], grad_fn=<AddmmBackward0>), t tensor([-1.])\n"
     ]
    },
    {
     "name": "stderr",
     "output_type": "stream",
     "text": [
      " 89%|█████████████████████████████▎   | 89/100 [02:05<00:15,  1.40s/it]"
     ]
    },
    {
     "name": "stdout",
     "output_type": "stream",
     "text": [
      "updates 174000, counter -123831.0, cost 0.0263063944876194, with y tensor([[-1.1622]], grad_fn=<AddmmBackward0>), t tensor([-1.])\n"
     ]
    },
    {
     "name": "stderr",
     "output_type": "stream",
     "text": [
      " 90%|█████████████████████████████▋   | 90/100 [02:06<00:14,  1.41s/it]"
     ]
    },
    {
     "name": "stdout",
     "output_type": "stream",
     "text": [
      "updates 176000, counter -124181.0, cost 0.13793513178825378, with y tensor([[0.6286]], grad_fn=<AddmmBackward0>), t tensor([1.])\n"
     ]
    },
    {
     "name": "stderr",
     "output_type": "stream",
     "text": [
      " 91%|██████████████████████████████   | 91/100 [02:08<00:12,  1.41s/it]"
     ]
    },
    {
     "name": "stdout",
     "output_type": "stream",
     "text": [
      "updates 178000, counter -124991.0, cost 0.0012023970484733582, with y tensor([[-1.0347]], grad_fn=<AddmmBackward0>), t tensor([-1.])\n"
     ]
    },
    {
     "name": "stderr",
     "output_type": "stream",
     "text": [
      " 92%|██████████████████████████████▎  | 92/100 [02:09<00:11,  1.40s/it]"
     ]
    },
    {
     "name": "stdout",
     "output_type": "stream",
     "text": [
      "updates 180000, counter -124953.0, cost 0.009149513207376003, with y tensor([[0.0957]], grad_fn=<AddmmBackward0>), t tensor([0.])\n"
     ]
    },
    {
     "name": "stderr",
     "output_type": "stream",
     "text": [
      " 93%|██████████████████████████████▋  | 93/100 [02:10<00:09,  1.40s/it]"
     ]
    },
    {
     "name": "stdout",
     "output_type": "stream",
     "text": [
      "updates 182000, counter -125516.0, cost 0.0012662360677495599, with y tensor([[3.9644]], grad_fn=<AddmmBackward0>), t tensor([4.])\n"
     ]
    },
    {
     "name": "stderr",
     "output_type": "stream",
     "text": [
      " 94%|███████████████████████████████  | 94/100 [02:12<00:08,  1.40s/it]"
     ]
    },
    {
     "name": "stdout",
     "output_type": "stream",
     "text": [
      "updates 184000, counter -125505.0, cost 0.17986731231212616, with y tensor([[1.4241]], grad_fn=<AddmmBackward0>), t tensor([1.])\n"
     ]
    },
    {
     "name": "stderr",
     "output_type": "stream",
     "text": [
      " 95%|███████████████████████████████▎ | 95/100 [02:13<00:07,  1.41s/it]"
     ]
    },
    {
     "name": "stdout",
     "output_type": "stream",
     "text": [
      "updates 186000, counter -125329.0, cost 0.1395714432001114, with y tensor([[1.3736]], grad_fn=<AddmmBackward0>), t tensor([1.])\n"
     ]
    },
    {
     "name": "stderr",
     "output_type": "stream",
     "text": [
      " 96%|███████████████████████████████▋ | 96/100 [02:15<00:05,  1.42s/it]"
     ]
    },
    {
     "name": "stdout",
     "output_type": "stream",
     "text": [
      "updates 188000, counter -125538.0, cost 8.992974471766502e-06, with y tensor([[1.0030]], grad_fn=<AddmmBackward0>), t tensor([1.])\n"
     ]
    },
    {
     "name": "stderr",
     "output_type": "stream",
     "text": [
      " 97%|████████████████████████████████ | 97/100 [02:16<00:04,  1.42s/it]"
     ]
    },
    {
     "name": "stdout",
     "output_type": "stream",
     "text": [
      "updates 190000, counter -125917.0, cost 0.0016917214961722493, with y tensor([[-3.0411]], grad_fn=<AddmmBackward0>), t tensor([-3.])\n"
     ]
    },
    {
     "name": "stderr",
     "output_type": "stream",
     "text": [
      " 98%|████████████████████████████████▎| 98/100 [02:17<00:02,  1.41s/it]"
     ]
    },
    {
     "name": "stdout",
     "output_type": "stream",
     "text": [
      "updates 192000, counter -126673.0, cost 0.23447977006435394, with y tensor([[0.5158]], grad_fn=<AddmmBackward0>), t tensor([1.])\n"
     ]
    },
    {
     "name": "stderr",
     "output_type": "stream",
     "text": [
      " 99%|████████████████████████████████▋| 99/100 [02:19<00:01,  1.42s/it]"
     ]
    },
    {
     "name": "stdout",
     "output_type": "stream",
     "text": [
      "updates 194000, counter -126336.0, cost 0.08468197286128998, with y tensor([[-0.7090]], grad_fn=<AddmmBackward0>), t tensor([-1.])\n"
     ]
    },
    {
     "name": "stderr",
     "output_type": "stream",
     "text": [
      "100%|████████████████████████████████| 100/100 [02:20<00:00,  1.41s/it]\n"
     ]
    },
    {
     "data": {
      "text/plain": [
       "[0.2675163149833679,\n",
       " 0.003994797356426716,\n",
       " 0.012096253223717213,\n",
       " 5.3026058594696224e-05,\n",
       " 0.0004696953983511776,\n",
       " 0.006512053776532412,\n",
       " 0.004738727584481239,\n",
       " 0.06696517765522003,\n",
       " 0.08459201455116272,\n",
       " 0.11891821771860123,\n",
       " 0.0002782861120067537,\n",
       " 0.009230079129338264,\n",
       " 0.06314059346914291,\n",
       " 0.16331149637699127,\n",
       " 0.008512875996530056,\n",
       " 0.11116129159927368,\n",
       " 0.028145471587777138,\n",
       " 0.00012346009316388518,\n",
       " 0.0009133872226811945,\n",
       " 0.005436287727206945]"
      ]
     },
     "execution_count": 140,
     "metadata": {},
     "output_type": "execute_result"
    },
    {
     "data": {
      "image/png": "[encoded data removed]",
      "text/plain": [
       "<Figure size 400x400 with 1 Axes>"
      ]
     },
     "metadata": {},
     "output_type": "display_data"
    }
   ],
   "source": [
    "import numpy as np\n",
    "import torch\n",
    "import torch.nn as nn\n",
    "from torch.utils.data import Dataset\n",
    "import matplotlib.pyplot as plt\n",
    "from tqdm import tqdm\n",
    "\n",
    "class chess_data(Dataset):\n",
    "    def __init__(self, x, t):\n",
    "        self.x = x\n",
    "        self.t = t\n",
    "\n",
    "    def __len__(self):\n",
    "        return len(self.x)\n",
    "    \n",
    "    def __getitem__(self, idx):\n",
    "        return self.x[idx], self.t[idx]\n",
    "\n",
    "\n",
    "x = torch.tensor(df_change['difference'].values, dtype=torch.float32).unsqueeze(1) \n",
    "t = torch.tensor((df_change['player_rating_change'] - K*(df_change['player_result_value'] - 0.5)).values, dtype=torch.float32) \n",
    "ds = chess_data(x, t)\n",
    "dl = torch.utils.data.DataLoader(ds, batch_size=1, shuffle=True)\n",
    "\n",
    "losses = []\n",
    "def chess_net_learn(net, dl, epochs = 100, counter = 0):\n",
    "    for epoch in tqdm(range(epochs)):\n",
    "        for x, t in dl:\n",
    "            y = net(x)\n",
    "            # y = torch.round(y)\n",
    "            loss = loss_fcn(y, t)\n",
    "            # print(f\"y is {y}, t is {t}\")\n",
    "            optim.zero_grad()\n",
    "            loss.backward()\n",
    "            optim.step()\n",
    "            losses.append(loss.item())\n",
    "\n",
    "            if loss.item() < 0.1:\n",
    "                counter += 1\n",
    "            else:\n",
    "                counter -= 5 * np.rint(loss.item())\n",
    "\n",
    "            if counter >= 100:\n",
    "                plt.figure(figsize = (4, 4))\n",
    "                plt.plot(losses);\n",
    "                return losses[-20:]\n",
    "            \n",
    "            if len(losses) % 2000 == 0:\n",
    "                print(f\"updates {len(losses)}, counter {counter}, cost {loss.item()}, with y {y}, t {t}\")\n",
    "\n",
    "    plt.figure(figsize = (4, 4))\n",
    "    plt.plot(losses);\n",
    "    return losses[-20:]\n",
    "\n",
    "chess_net = nn.Sequential(\n",
    "                nn.Linear(1, 1),\n",
    "                nn.Tanh(),\n",
    "                nn.Linear(1, 5),\n",
    "                nn.LeakyReLU(),\n",
    "                nn.Linear(5, 5),\n",
    "                nn.LayerNorm(5),\n",
    "                nn.Linear(5, 5),\n",
    "                nn.LeakyReLU(),\n",
    "                nn.Linear(5, 5),\n",
    "                nn.LeakyReLU(),\n",
    "                nn.Linear(5, 5),\n",
    "                nn.LayerNorm(5),\n",
    "                nn.Linear(5, 5),\n",
    "                nn.LeakyReLU(),\n",
    "                nn.Linear(5, 1)\n",
    "                )\n",
    "\n",
    "loss_fcn = nn.MSELoss()\n",
    "optim = torch.optim.Adam(chess_net.parameters(), lr=0.001) \n",
    "chess_net_learn(chess_net, dl)      \n",
    "\n",
    "# print(x.shape)\n",
    "# print(t.shape)\n",
    "\n",
    "# print(t[1:50])\n",
    "\n",
    "# plt.hist(t,bins=np.arange(-10,10,1))\n",
    "# plt.show()\n",
    "# np.mean(df_change['difference'])\n"
   ]
  },
  {
   "cell_type": "code",
   "execution_count": 141,
   "metadata": {},
   "outputs": [
    {
     "name": "stdout",
     "output_type": "stream",
     "text": [
      "y_part tensor([ 2.,  0.,  1., -1., -1.,  1.,  1., -0., -1., -1.,  0., -1.,  0., -1.,\n",
      "        -1., -1.,  0., -0.,  1.,  1.,  2.,  1., -1., -2., -2., -2., -2.,  1.,\n",
      "         1., -3.], grad_fn=<ViewBackward0>)\n",
      "t_part tensor([ 2.,  0.,  1., -1., -1.,  1.,  1.,  0., -2., -1.,  0., -1.,  0., -1.,\n",
      "        -1., -1.,  0.,  0.,  1.,  1.,  2.,  1., -1., -2., -2., -2., -3.,  1.,\n",
      "         1., -3.])\n"
     ]
    }
   ],
   "source": [
    "x = torch.tensor(df_change['difference'].values, dtype=torch.float32).unsqueeze(1) \n",
    "t = torch.tensor((df_change['player_rating_change'] - K*(df_change['player_result_value'] - 0.5)).values, dtype=torch.float32) \n",
    "\n",
    "\n",
    "s = 200\n",
    "e = 230\n",
    "\n",
    "x_part = x[s:e]\n",
    "t_part = t[s:e]\n",
    "\n",
    "\n",
    "y_part = chess_net(x_part)\n",
    "y_part = torch.round(y_part)\n",
    "y_part = y_part.flatten()\n",
    "\n",
    "print(\"y_part\", y_part)\n",
    "print(\"t_part\", t_part)"
   ]
  },
  {
   "cell_type": "code",
   "execution_count": 157,
   "metadata": {},
   "outputs": [
    {
     "data": {
      "image/png": "[encoded data removed]",
      "text/plain": [
       "<Figure size 640x480 with 1 Axes>"
      ]
     },
     "metadata": {},
     "output_type": "display_data"
    },
    {
     "name": "stdout",
     "output_type": "stream",
     "text": [
      "[-2. -1.  1.  0.  1.  0. -0.  0.  1. -1.  0.  1. -2. -0.  2.  0.  2. -0.\n",
      "  0.  0.]\n",
      "[-2. -2.  1.  0.  1.  0.  0.  0.  1. -1.  0.  1. -2.  0.  2.  0.  2.  0.\n",
      "  0.  0.]\n",
      "mse is 0.15743589401245117\n"
     ]
    }
   ],
   "source": [
    "x = torch.tensor(df_change['difference'].values, dtype=torch.float32).unsqueeze(1) \n",
    "t = torch.tensor((df_change['player_rating_change'] - K*(df_change['player_result_value'] - 0.5)).values, dtype=torch.float32) \n",
    "\n",
    "y = chess_net(x)\n",
    "\n",
    "\n",
    "y = torch.round(y)\n",
    "y = y.flatten()\n",
    "y = y.detach().numpy()\n",
    "\n",
    "xx = torch.tensor( np.arange(-450, 450, 1), dtype=torch.float32).unsqueeze(1)\n",
    "yy = chess_net(xx)\n",
    "yy = yy.flatten()\n",
    "yy = yy.detach().numpy()\n",
    "\n",
    "# Plot t against x\n",
    "plt.scatter(x, t, label='y_true', color='blue', s = 2)\n",
    "\n",
    "# Plot predicted values y against x as dots\n",
    "plt.scatter(x, y, label='y_hat', color='red', s = 2)\n",
    "\n",
    "plt.plot(xx, yy, label = \"y_conti\", color = \"orange\")\n",
    "\n",
    "# Add labels and legend\n",
    "plt.xlabel('Difference')\n",
    "plt.ylabel('Gains')\n",
    "plt.legend()\n",
    "\n",
    "# Show plot\n",
    "plt.show()\n",
    "\n",
    "t = t.numpy()\n",
    "print(y[-20:])\n",
    "print(t[-20:])\n",
    "mse = np.mean(np.square(y - t))\n",
    "\n",
    "print(f\"mse is {mse}\")"
   ]
  },
  {
   "cell_type": "code",
   "execution_count": null,
   "metadata": {},
   "outputs": [],
   "source": [
    "# class chess_net(nn.Module):\n",
    "#     def __init__(self):\n",
    "#         super(chess_net, self).__init__()\n",
    "#         self.input_activation = nn.Tanh()\n",
    "#         self.hidden_layers = nn.Sequential(\n",
    "#             nn.Linear(1, 1),\n",
    "#             nn.ReLU(),\n",
    "#             nn.Linear(1, 1)\n",
    "#         )\n",
    "\n",
    "#     def forward(self, x):\n",
    "#         x = self.input_activation(x)\n",
    "#         x = self.hidden_layers(x)\n",
    "#         return x\n",
    "# chess_net = chess_net()"
   ]
  },
  {
   "cell_type": "code",
   "execution_count": null,
   "metadata": {},
   "outputs": [
    {
     "data": {
      "image/png": "[encoded data removed]",
      "text/plain": [
       "<Figure size 640x480 with 1 Axes>"
      ]
     },
     "metadata": {},
     "output_type": "display_data"
    }
   ],
   "source": [
    "plt.scatter(df_change['difference'],df_change['player_rating_change'],x)\n",
    "plt.xlim(150,200)\n",
    "plt.show()"
   ]
  },
  {
   "cell_type": "code",
   "execution_count": null,
   "metadata": {},
   "outputs": [
    {
     "data": {
      "text/html": [
       "<div>\n",
       "<style scoped>\n",
       "    .dataframe tbody tr th:only-of-type {\n",
       "        vertical-align: middle;\n",
       "    }\n",
       "\n",
       "    .dataframe tbody tr th {\n",
       "        vertical-align: top;\n",
       "    }\n",
       "\n",
       "    .dataframe thead th {\n",
       "        text-align: right;\n",
       "    }\n",
       "</style>\n",
       "<table border=\"1\" class=\"dataframe\">\n",
       "  <thead>\n",
       "    <tr style=\"text-align: right;\">\n",
       "      <th></th>\n",
       "      <th></th>\n",
       "      <th>Lower</th>\n",
       "      <th>Upper</th>\n",
       "    </tr>\n",
       "    <tr>\n",
       "      <th>player_result_value</th>\n",
       "      <th>player_rating_change</th>\n",
       "      <th></th>\n",
       "      <th></th>\n",
       "    </tr>\n",
       "  </thead>\n",
       "  <tbody>\n",
       "    <tr>\n",
       "      <th rowspan=\"14\" valign=\"top\">0.0</th>\n",
       "      <th>-14.0</th>\n",
       "      <td>-392.64</td>\n",
       "      <td>-323.51</td>\n",
       "    </tr>\n",
       "    <tr>\n",
       "      <th>-13.0</th>\n",
       "      <td>-292.15</td>\n",
       "      <td>-226.35</td>\n",
       "    </tr>\n",
       "    <tr>\n",
       "      <th>-12.0</th>\n",
       "      <td>-212.80</td>\n",
       "      <td>-34.10</td>\n",
       "    </tr>\n",
       "    <tr>\n",
       "      <th>-11.0</th>\n",
       "      <td>-158.40</td>\n",
       "      <td>-115.20</td>\n",
       "    </tr>\n",
       "    <tr>\n",
       "      <th>-10.0</th>\n",
       "      <td>-109.12</td>\n",
       "      <td>1.62</td>\n",
       "    </tr>\n",
       "    <tr>\n",
       "      <th>-9.0</th>\n",
       "      <td>-64.00</td>\n",
       "      <td>-8.00</td>\n",
       "    </tr>\n",
       "    <tr>\n",
       "      <th>-8.0</th>\n",
       "      <td>-21.00</td>\n",
       "      <td>21.57</td>\n",
       "    </tr>\n",
       "    <tr>\n",
       "      <th>-7.0</th>\n",
       "      <td>22.00</td>\n",
       "      <td>65.37</td>\n",
       "    </tr>\n",
       "    <tr>\n",
       "      <th>-6.0</th>\n",
       "      <td>67.00</td>\n",
       "      <td>108.45</td>\n",
       "    </tr>\n",
       "    <tr>\n",
       "      <th>-5.0</th>\n",
       "      <td>118.44</td>\n",
       "      <td>161.24</td>\n",
       "    </tr>\n",
       "    <tr>\n",
       "      <th>-4.0</th>\n",
       "      <td>170.12</td>\n",
       "      <td>180.90</td>\n",
       "    </tr>\n",
       "    <tr>\n",
       "      <th>-3.0</th>\n",
       "      <td>235.23</td>\n",
       "      <td>257.77</td>\n",
       "    </tr>\n",
       "    <tr>\n",
       "      <th>-2.0</th>\n",
       "      <td>308.03</td>\n",
       "      <td>397.53</td>\n",
       "    </tr>\n",
       "    <tr>\n",
       "      <th>1.0</th>\n",
       "      <td>99.00</td>\n",
       "      <td>99.00</td>\n",
       "    </tr>\n",
       "    <tr>\n",
       "      <th rowspan=\"11\" valign=\"top\">0.5</th>\n",
       "      <th>-6.0</th>\n",
       "      <td>-396.00</td>\n",
       "      <td>-396.00</td>\n",
       "    </tr>\n",
       "    <tr>\n",
       "      <th>-5.0</th>\n",
       "      <td>-240.00</td>\n",
       "      <td>-240.00</td>\n",
       "    </tr>\n",
       "    <tr>\n",
       "      <th>-4.0</th>\n",
       "      <td>-137.00</td>\n",
       "      <td>-137.00</td>\n",
       "    </tr>\n",
       "    <tr>\n",
       "      <th>-3.0</th>\n",
       "      <td>-148.97</td>\n",
       "      <td>-146.03</td>\n",
       "    </tr>\n",
       "    <tr>\n",
       "      <th>-2.0</th>\n",
       "      <td>-109.22</td>\n",
       "      <td>-67.13</td>\n",
       "    </tr>\n",
       "    <tr>\n",
       "      <th>-1.0</th>\n",
       "      <td>-61.38</td>\n",
       "      <td>-22.31</td>\n",
       "    </tr>\n",
       "    <tr>\n",
       "      <th>0.0</th>\n",
       "      <td>-20.52</td>\n",
       "      <td>19.52</td>\n",
       "    </tr>\n",
       "    <tr>\n",
       "      <th>1.0</th>\n",
       "      <td>19.69</td>\n",
       "      <td>64.00</td>\n",
       "    </tr>\n",
       "    <tr>\n",
       "      <th>2.0</th>\n",
       "      <td>63.56</td>\n",
       "      <td>102.44</td>\n",
       "    </tr>\n",
       "    <tr>\n",
       "      <th>3.0</th>\n",
       "      <td>125.12</td>\n",
       "      <td>149.62</td>\n",
       "    </tr>\n",
       "    <tr>\n",
       "      <th>4.0</th>\n",
       "      <td>220.00</td>\n",
       "      <td>220.00</td>\n",
       "    </tr>\n",
       "    <tr>\n",
       "      <th rowspan=\"13\" valign=\"top\">1.0</th>\n",
       "      <th>1.0</th>\n",
       "      <td>-398.00</td>\n",
       "      <td>-398.00</td>\n",
       "    </tr>\n",
       "    <tr>\n",
       "      <th>2.0</th>\n",
       "      <td>-390.95</td>\n",
       "      <td>-296.42</td>\n",
       "    </tr>\n",
       "    <tr>\n",
       "      <th>3.0</th>\n",
       "      <td>-292.70</td>\n",
       "      <td>-228.42</td>\n",
       "    </tr>\n",
       "    <tr>\n",
       "      <th>4.0</th>\n",
       "      <td>-202.00</td>\n",
       "      <td>-175.14</td>\n",
       "    </tr>\n",
       "    <tr>\n",
       "      <th>5.0</th>\n",
       "      <td>-158.52</td>\n",
       "      <td>-115.00</td>\n",
       "    </tr>\n",
       "    <tr>\n",
       "      <th>6.0</th>\n",
       "      <td>-108.00</td>\n",
       "      <td>-69.00</td>\n",
       "    </tr>\n",
       "    <tr>\n",
       "      <th>7.0</th>\n",
       "      <td>-66.00</td>\n",
       "      <td>-22.00</td>\n",
       "    </tr>\n",
       "    <tr>\n",
       "      <th>8.0</th>\n",
       "      <td>-21.97</td>\n",
       "      <td>20.97</td>\n",
       "    </tr>\n",
       "    <tr>\n",
       "      <th>9.0</th>\n",
       "      <td>22.00</td>\n",
       "      <td>65.59</td>\n",
       "    </tr>\n",
       "    <tr>\n",
       "      <th>10.0</th>\n",
       "      <td>29.44</td>\n",
       "      <td>109.47</td>\n",
       "    </tr>\n",
       "    <tr>\n",
       "      <th>11.0</th>\n",
       "      <td>115.30</td>\n",
       "      <td>160.90</td>\n",
       "    </tr>\n",
       "    <tr>\n",
       "      <th>12.0</th>\n",
       "      <td>166.12</td>\n",
       "      <td>216.96</td>\n",
       "    </tr>\n",
       "    <tr>\n",
       "      <th>13.0</th>\n",
       "      <td>-105.44</td>\n",
       "      <td>145.44</td>\n",
       "    </tr>\n",
       "  </tbody>\n",
       "</table>\n",
       "</div>"
      ],
      "text/plain": [
       "                                           Lower   Upper\n",
       "player_result_value player_rating_change                \n",
       "0.0                 -14.0                -392.64 -323.51\n",
       "                    -13.0                -292.15 -226.35\n",
       "                    -12.0                -212.80  -34.10\n",
       "                    -11.0                -158.40 -115.20\n",
       "                    -10.0                -109.12    1.62\n",
       "                    -9.0                  -64.00   -8.00\n",
       "                    -8.0                  -21.00   21.57\n",
       "                    -7.0                   22.00   65.37\n",
       "                    -6.0                   67.00  108.45\n",
       "                    -5.0                  118.44  161.24\n",
       "                    -4.0                  170.12  180.90\n",
       "                    -3.0                  235.23  257.77\n",
       "                    -2.0                  308.03  397.53\n",
       "                     1.0                   99.00   99.00\n",
       "0.5                 -6.0                 -396.00 -396.00\n",
       "                    -5.0                 -240.00 -240.00\n",
       "                    -4.0                 -137.00 -137.00\n",
       "                    -3.0                 -148.97 -146.03\n",
       "                    -2.0                 -109.22  -67.13\n",
       "                    -1.0                  -61.38  -22.31\n",
       "                     0.0                  -20.52   19.52\n",
       "                     1.0                   19.69   64.00\n",
       "                     2.0                   63.56  102.44\n",
       "                     3.0                  125.12  149.62\n",
       "                     4.0                  220.00  220.00\n",
       "1.0                  1.0                 -398.00 -398.00\n",
       "                     2.0                 -390.95 -296.42\n",
       "                     3.0                 -292.70 -228.42\n",
       "                     4.0                 -202.00 -175.14\n",
       "                     5.0                 -158.52 -115.00\n",
       "                     6.0                 -108.00  -69.00\n",
       "                     7.0                  -66.00  -22.00\n",
       "                     8.0                  -21.97   20.97\n",
       "                     9.0                   22.00   65.59\n",
       "                     10.0                  29.44  109.47\n",
       "                     11.0                 115.30  160.90\n",
       "                     12.0                 166.12  216.96\n",
       "                     13.0                -105.44  145.44"
      ]
     },
     "execution_count": 42,
     "metadata": {},
     "output_type": "execute_result"
    }
   ],
   "source": [
    "f1 = lambda x: np.quantile(x,0.01)\n",
    "f2 = lambda x: np.quantile(x,0.99)\n",
    "\n",
    "df_change.groupby(['player_result_value','player_rating_change']).agg(Lower = ('difference',f1),\n",
    "                                                                      Upper = ('difference',f2))"
   ]
  },
  {
   "cell_type": "code",
   "execution_count": null,
   "metadata": {},
   "outputs": [],
   "source": [
    "bucket_size = 10\n",
    "df_change['bucket_num'] = df_change['difference']//bucket_size\n",
    "df_change['bucket_label'] =  np.char.add(np.char.add(np.ndarray.astype(10*df_change['bucket_num'].values,dtype=str),\" to \"), np.ndarray.astype(10*(df_change['bucket_num'].values+ 1),dtype=str))"
   ]
  },
  {
   "cell_type": "code",
   "execution_count": null,
   "metadata": {},
   "outputs": [
    {
     "data": {
      "text/html": [
       "<div>\n",
       "<style scoped>\n",
       "    .dataframe tbody tr th:only-of-type {\n",
       "        vertical-align: middle;\n",
       "    }\n",
       "\n",
       "    .dataframe tbody tr th {\n",
       "        vertical-align: top;\n",
       "    }\n",
       "\n",
       "    .dataframe thead th {\n",
       "        text-align: right;\n",
       "    }\n",
       "</style>\n",
       "<table border=\"1\" class=\"dataframe\">\n",
       "  <thead>\n",
       "    <tr style=\"text-align: right;\">\n",
       "      <th></th>\n",
       "      <th>game_id</th>\n",
       "      <th>player_rating_prev</th>\n",
       "      <th>opponent_rating_prev</th>\n",
       "      <th>difference</th>\n",
       "      <th>expected_score</th>\n",
       "      <th>player_result_value</th>\n",
       "      <th>player_rating_change</th>\n",
       "      <th>player_rating</th>\n",
       "      <th>opponent_rating</th>\n",
       "      <th>sqrt_heuristic</th>\n",
       "      <th>sqrt_heuristic_error</th>\n",
       "      <th>custom_heuristic</th>\n",
       "      <th>custom_heuristic_error</th>\n",
       "      <th>bucket_num</th>\n",
       "      <th>bucket_label</th>\n",
       "    </tr>\n",
       "  </thead>\n",
       "  <tbody>\n",
       "    <tr>\n",
       "      <th>1</th>\n",
       "      <td>27728963769</td>\n",
       "      <td>1618.0</td>\n",
       "      <td>1598.0</td>\n",
       "      <td>-20.0</td>\n",
       "      <td>0.528751</td>\n",
       "      <td>1.0</td>\n",
       "      <td>8.0</td>\n",
       "      <td>1626</td>\n",
       "      <td>1590</td>\n",
       "      <td>7.0</td>\n",
       "      <td>1.0</td>\n",
       "      <td>8.0</td>\n",
       "      <td>0.0</td>\n",
       "      <td>-2.0</td>\n",
       "      <td>-20.0 to -10.0</td>\n",
       "    </tr>\n",
       "    <tr>\n",
       "      <th>2</th>\n",
       "      <td>27729052317</td>\n",
       "      <td>1626.0</td>\n",
       "      <td>1628.0</td>\n",
       "      <td>2.0</td>\n",
       "      <td>0.497122</td>\n",
       "      <td>0.5</td>\n",
       "      <td>0.0</td>\n",
       "      <td>1626</td>\n",
       "      <td>1628</td>\n",
       "      <td>0.0</td>\n",
       "      <td>0.0</td>\n",
       "      <td>0.0</td>\n",
       "      <td>0.0</td>\n",
       "      <td>0.0</td>\n",
       "      <td>0.0 to 10.0</td>\n",
       "    </tr>\n",
       "    <tr>\n",
       "      <th>3</th>\n",
       "      <td>27729596667</td>\n",
       "      <td>1626.0</td>\n",
       "      <td>1751.0</td>\n",
       "      <td>125.0</td>\n",
       "      <td>0.327490</td>\n",
       "      <td>0.5</td>\n",
       "      <td>3.0</td>\n",
       "      <td>1629</td>\n",
       "      <td>1748</td>\n",
       "      <td>2.0</td>\n",
       "      <td>1.0</td>\n",
       "      <td>3.0</td>\n",
       "      <td>0.0</td>\n",
       "      <td>12.0</td>\n",
       "      <td>120.0 to 130.0</td>\n",
       "    </tr>\n",
       "    <tr>\n",
       "      <th>4</th>\n",
       "      <td>27729650709</td>\n",
       "      <td>1629.0</td>\n",
       "      <td>1552.0</td>\n",
       "      <td>-77.0</td>\n",
       "      <td>0.609033</td>\n",
       "      <td>1.0</td>\n",
       "      <td>6.0</td>\n",
       "      <td>1635</td>\n",
       "      <td>1546</td>\n",
       "      <td>6.0</td>\n",
       "      <td>0.0</td>\n",
       "      <td>6.0</td>\n",
       "      <td>0.0</td>\n",
       "      <td>-8.0</td>\n",
       "      <td>-80.0 to -70.0</td>\n",
       "    </tr>\n",
       "    <tr>\n",
       "      <th>5</th>\n",
       "      <td>27730195479</td>\n",
       "      <td>1635.0</td>\n",
       "      <td>1632.0</td>\n",
       "      <td>-3.0</td>\n",
       "      <td>0.504317</td>\n",
       "      <td>0.0</td>\n",
       "      <td>-8.0</td>\n",
       "      <td>1627</td>\n",
       "      <td>1640</td>\n",
       "      <td>-8.0</td>\n",
       "      <td>0.0</td>\n",
       "      <td>-8.0</td>\n",
       "      <td>0.0</td>\n",
       "      <td>-1.0</td>\n",
       "      <td>-10.0 to 0.0</td>\n",
       "    </tr>\n",
       "    <tr>\n",
       "      <th>...</th>\n",
       "      <td>...</td>\n",
       "      <td>...</td>\n",
       "      <td>...</td>\n",
       "      <td>...</td>\n",
       "      <td>...</td>\n",
       "      <td>...</td>\n",
       "      <td>...</td>\n",
       "      <td>...</td>\n",
       "      <td>...</td>\n",
       "      <td>...</td>\n",
       "      <td>...</td>\n",
       "      <td>...</td>\n",
       "      <td>...</td>\n",
       "      <td>...</td>\n",
       "      <td>...</td>\n",
       "    </tr>\n",
       "    <tr>\n",
       "      <th>1995</th>\n",
       "      <td>102885626207</td>\n",
       "      <td>1791.0</td>\n",
       "      <td>1707.0</td>\n",
       "      <td>-84.0</td>\n",
       "      <td>0.618584</td>\n",
       "      <td>1.0</td>\n",
       "      <td>6.0</td>\n",
       "      <td>1797</td>\n",
       "      <td>1701</td>\n",
       "      <td>6.0</td>\n",
       "      <td>0.0</td>\n",
       "      <td>6.0</td>\n",
       "      <td>0.0</td>\n",
       "      <td>-9.0</td>\n",
       "      <td>-90.0 to -80.0</td>\n",
       "    </tr>\n",
       "    <tr>\n",
       "      <th>1996</th>\n",
       "      <td>102885764715</td>\n",
       "      <td>1797.0</td>\n",
       "      <td>1710.0</td>\n",
       "      <td>-87.0</td>\n",
       "      <td>0.622650</td>\n",
       "      <td>0.5</td>\n",
       "      <td>-2.0</td>\n",
       "      <td>1795</td>\n",
       "      <td>1712</td>\n",
       "      <td>-2.0</td>\n",
       "      <td>0.0</td>\n",
       "      <td>-2.0</td>\n",
       "      <td>0.0</td>\n",
       "      <td>-9.0</td>\n",
       "      <td>-90.0 to -80.0</td>\n",
       "    </tr>\n",
       "    <tr>\n",
       "      <th>1997</th>\n",
       "      <td>102892255401</td>\n",
       "      <td>1795.0</td>\n",
       "      <td>1798.0</td>\n",
       "      <td>3.0</td>\n",
       "      <td>0.495683</td>\n",
       "      <td>1.0</td>\n",
       "      <td>8.0</td>\n",
       "      <td>1803</td>\n",
       "      <td>1790</td>\n",
       "      <td>8.0</td>\n",
       "      <td>0.0</td>\n",
       "      <td>8.0</td>\n",
       "      <td>0.0</td>\n",
       "      <td>0.0</td>\n",
       "      <td>0.0 to 10.0</td>\n",
       "    </tr>\n",
       "    <tr>\n",
       "      <th>1998</th>\n",
       "      <td>102892807055</td>\n",
       "      <td>1803.0</td>\n",
       "      <td>1760.0</td>\n",
       "      <td>-43.0</td>\n",
       "      <td>0.561568</td>\n",
       "      <td>0.0</td>\n",
       "      <td>-9.0</td>\n",
       "      <td>1794</td>\n",
       "      <td>1769</td>\n",
       "      <td>-9.0</td>\n",
       "      <td>0.0</td>\n",
       "      <td>-9.0</td>\n",
       "      <td>0.0</td>\n",
       "      <td>-5.0</td>\n",
       "      <td>-50.0 to -40.0</td>\n",
       "    </tr>\n",
       "    <tr>\n",
       "      <th>1999</th>\n",
       "      <td>102892915045</td>\n",
       "      <td>1794.0</td>\n",
       "      <td>1733.0</td>\n",
       "      <td>-61.0</td>\n",
       "      <td>0.586895</td>\n",
       "      <td>1.0</td>\n",
       "      <td>7.0</td>\n",
       "      <td>1801</td>\n",
       "      <td>1726</td>\n",
       "      <td>7.0</td>\n",
       "      <td>0.0</td>\n",
       "      <td>7.0</td>\n",
       "      <td>0.0</td>\n",
       "      <td>-7.0</td>\n",
       "      <td>-70.0 to -60.0</td>\n",
       "    </tr>\n",
       "  </tbody>\n",
       "</table>\n",
       "<p>1950 rows × 15 columns</p>\n",
       "</div>"
      ],
      "text/plain": [
       "           game_id  player_rating_prev  opponent_rating_prev  difference  \\\n",
       "1      27728963769              1618.0                1598.0       -20.0   \n",
       "2      27729052317              1626.0                1628.0         2.0   \n",
       "3      27729596667              1626.0                1751.0       125.0   \n",
       "4      27729650709              1629.0                1552.0       -77.0   \n",
       "5      27730195479              1635.0                1632.0        -3.0   \n",
       "...            ...                 ...                   ...         ...   \n",
       "1995  102885626207              1791.0                1707.0       -84.0   \n",
       "1996  102885764715              1797.0                1710.0       -87.0   \n",
       "1997  102892255401              1795.0                1798.0         3.0   \n",
       "1998  102892807055              1803.0                1760.0       -43.0   \n",
       "1999  102892915045              1794.0                1733.0       -61.0   \n",
       "\n",
       "      expected_score  player_result_value  player_rating_change  \\\n",
       "1           0.528751                  1.0                   8.0   \n",
       "2           0.497122                  0.5                   0.0   \n",
       "3           0.327490                  0.5                   3.0   \n",
       "4           0.609033                  1.0                   6.0   \n",
       "5           0.504317                  0.0                  -8.0   \n",
       "...              ...                  ...                   ...   \n",
       "1995        0.618584                  1.0                   6.0   \n",
       "1996        0.622650                  0.5                  -2.0   \n",
       "1997        0.495683                  1.0                   8.0   \n",
       "1998        0.561568                  0.0                  -9.0   \n",
       "1999        0.586895                  1.0                   7.0   \n",
       "\n",
       "      player_rating  opponent_rating  sqrt_heuristic  sqrt_heuristic_error  \\\n",
       "1              1626             1590             7.0                   1.0   \n",
       "2              1626             1628             0.0                   0.0   \n",
       "3              1629             1748             2.0                   1.0   \n",
       "4              1635             1546             6.0                   0.0   \n",
       "5              1627             1640            -8.0                   0.0   \n",
       "...             ...              ...             ...                   ...   \n",
       "1995           1797             1701             6.0                   0.0   \n",
       "1996           1795             1712            -2.0                   0.0   \n",
       "1997           1803             1790             8.0                   0.0   \n",
       "1998           1794             1769            -9.0                   0.0   \n",
       "1999           1801             1726             7.0                   0.0   \n",
       "\n",
       "      custom_heuristic  custom_heuristic_error  bucket_num    bucket_label  \n",
       "1                  8.0                     0.0        -2.0  -20.0 to -10.0  \n",
       "2                  0.0                     0.0         0.0     0.0 to 10.0  \n",
       "3                  3.0                     0.0        12.0  120.0 to 130.0  \n",
       "4                  6.0                     0.0        -8.0  -80.0 to -70.0  \n",
       "5                 -8.0                     0.0        -1.0    -10.0 to 0.0  \n",
       "...                ...                     ...         ...             ...  \n",
       "1995               6.0                     0.0        -9.0  -90.0 to -80.0  \n",
       "1996              -2.0                     0.0        -9.0  -90.0 to -80.0  \n",
       "1997               8.0                     0.0         0.0     0.0 to 10.0  \n",
       "1998              -9.0                     0.0        -5.0  -50.0 to -40.0  \n",
       "1999               7.0                     0.0        -7.0  -70.0 to -60.0  \n",
       "\n",
       "[1950 rows x 15 columns]"
      ]
     },
     "execution_count": 73,
     "metadata": {},
     "output_type": "execute_result"
    }
   ],
   "source": [
    "df_change"
   ]
  },
  {
   "cell_type": "code",
   "execution_count": null,
   "metadata": {},
   "outputs": [],
   "source": [
    "df_exp = df_change.groupby('bucket_label').agg(count = ('game_id','count'),\n",
    "                                             actual_score = ('player_result_value','mean'),\n",
    "                                             expected_score = ('expected_score','mean')\n",
    "                                             ).reset_index()"
   ]
  },
  {
   "cell_type": "code",
   "execution_count": null,
   "metadata": {},
   "outputs": [],
   "source": [
    "a = np.array([1,2,3])"
   ]
  },
  {
   "cell_type": "code",
   "execution_count": null,
   "metadata": {},
   "outputs": [
    {
     "data": {
      "text/plain": [
       "array(['1', '2', '3'], dtype='<U11')"
      ]
     },
     "execution_count": 63,
     "metadata": {},
     "output_type": "execute_result"
    }
   ],
   "source": [
    "np.ndarray.astype(a,dtype=str)"
   ]
  },
  {
   "cell_type": "code",
   "execution_count": null,
   "metadata": {},
   "outputs": [],
   "source": [
    "df_exp = df_exp[df_exp['count'] >= 10]"
   ]
  },
  {
   "cell_type": "code",
   "execution_count": null,
   "metadata": {},
   "outputs": [
    {
     "data": {
      "text/plain": [
       "<Axes: xlabel='expected_score', ylabel='actual_score'>"
      ]
     },
     "execution_count": 77,
     "metadata": {},
     "output_type": "execute_result"
    },
    {
     "data": {
      "image/png": "[encoded data removed]",
      "text/plain": [
       "<Figure size 640x480 with 1 Axes>"
      ]
     },
     "metadata": {},
     "output_type": "display_data"
    }
   ],
   "source": [
    "plt.bar()"
   ]
  }
 ],
 "metadata": {
  "kernelspec": {
   "display_name": "Python 3 (ipykernel)",
   "language": "python",
   "name": "python3"
  },
  "language_info": {
   "codemirror_mode": {
    "name": "ipython",
    "version": 3
   },
   "file_extension": ".py",
   "mimetype": "text/x-python",
   "name": "python",
   "nbconvert_exporter": "python",
   "pygments_lexer": "ipython3",
   "version": "3.12.2"
  }
 },
 "nbformat": 4,
 "nbformat_minor": 2
}
